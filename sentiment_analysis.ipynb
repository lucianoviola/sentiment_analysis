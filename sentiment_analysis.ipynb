{
 "cells": [
  {
   "cell_type": "markdown",
   "metadata": {},
   "source": [
    "# Sentiment analsyis of Amazon product reviews using Logistic Regression"
   ]
  },
  {
   "cell_type": "markdown",
   "metadata": {},
   "source": [
    "In this assignment, we will use product review data from Amazon.com to predict whether the sentiments about a product (from its reviews) are positive or negative."
   ]
  },
  {
   "cell_type": "markdown",
   "metadata": {},
   "source": []
  },
  {
   "cell_type": "markdown",
   "metadata": {},
   "source": [
    "## Load amazon dataset"
   ]
  },
  {
   "cell_type": "markdown",
   "metadata": {},
   "source": [
    "#### import pandas "
   ]
  },
  {
   "cell_type": "code",
   "execution_count": 1,
   "metadata": {
    "collapsed": true
   },
   "outputs": [],
   "source": [
    "import pandas as pd "
   ]
  },
  {
   "cell_type": "markdown",
   "metadata": {},
   "source": [
    "#### read csv into a pandas Dataframe instance "
   ]
  },
  {
   "cell_type": "code",
   "execution_count": 2,
   "metadata": {
    "collapsed": false
   },
   "outputs": [],
   "source": [
    "products = pd.read_csv('amazon_baby.csv')"
   ]
  },
  {
   "cell_type": "markdown",
   "metadata": {},
   "source": [
    "#### Size of the data "
   ]
  },
  {
   "cell_type": "code",
   "execution_count": 3,
   "metadata": {
    "collapsed": false
   },
   "outputs": [
    {
     "data": {
      "text/plain": [
       "(183531, 3)"
      ]
     },
     "execution_count": 3,
     "metadata": {},
     "output_type": "execute_result"
    }
   ],
   "source": [
    "products.shape"
   ]
  },
  {
   "cell_type": "markdown",
   "metadata": {},
   "source": [
    "There are 183531 reviews for this product"
   ]
  },
  {
   "cell_type": "markdown",
   "metadata": {},
   "source": [
    "#### A look into the first 5 rows of the dataframe "
   ]
  },
  {
   "cell_type": "markdown",
   "metadata": {},
   "source": [
    "The first column is the title of the review, the second is the review itself and the third the rating the reviewer gave to the product."
   ]
  },
  {
   "cell_type": "code",
   "execution_count": 4,
   "metadata": {
    "collapsed": false
   },
   "outputs": [
    {
     "data": {
      "text/html": [
       "<div>\n",
       "<table border=\"1\" class=\"dataframe\">\n",
       "  <thead>\n",
       "    <tr style=\"text-align: right;\">\n",
       "      <th></th>\n",
       "      <th>name</th>\n",
       "      <th>review</th>\n",
       "      <th>rating</th>\n",
       "    </tr>\n",
       "  </thead>\n",
       "  <tbody>\n",
       "    <tr>\n",
       "      <th>0</th>\n",
       "      <td>Planetwise Flannel Wipes</td>\n",
       "      <td>These flannel wipes are OK, but in my opinion ...</td>\n",
       "      <td>3</td>\n",
       "    </tr>\n",
       "    <tr>\n",
       "      <th>1</th>\n",
       "      <td>Planetwise Wipe Pouch</td>\n",
       "      <td>it came early and was not disappointed. i love...</td>\n",
       "      <td>5</td>\n",
       "    </tr>\n",
       "    <tr>\n",
       "      <th>2</th>\n",
       "      <td>Annas Dream Full Quilt with 2 Shams</td>\n",
       "      <td>Very soft and comfortable and warmer than it l...</td>\n",
       "      <td>5</td>\n",
       "    </tr>\n",
       "    <tr>\n",
       "      <th>3</th>\n",
       "      <td>Stop Pacifier Sucking without tears with Thumb...</td>\n",
       "      <td>This is a product well worth the purchase.  I ...</td>\n",
       "      <td>5</td>\n",
       "    </tr>\n",
       "    <tr>\n",
       "      <th>4</th>\n",
       "      <td>Stop Pacifier Sucking without tears with Thumb...</td>\n",
       "      <td>All of my kids have cried non-stop when I trie...</td>\n",
       "      <td>5</td>\n",
       "    </tr>\n",
       "  </tbody>\n",
       "</table>\n",
       "</div>"
      ],
      "text/plain": [
       "                                                name  \\\n",
       "0                           Planetwise Flannel Wipes   \n",
       "1                              Planetwise Wipe Pouch   \n",
       "2                Annas Dream Full Quilt with 2 Shams   \n",
       "3  Stop Pacifier Sucking without tears with Thumb...   \n",
       "4  Stop Pacifier Sucking without tears with Thumb...   \n",
       "\n",
       "                                              review  rating  \n",
       "0  These flannel wipes are OK, but in my opinion ...       3  \n",
       "1  it came early and was not disappointed. i love...       5  \n",
       "2  Very soft and comfortable and warmer than it l...       5  \n",
       "3  This is a product well worth the purchase.  I ...       5  \n",
       "4  All of my kids have cried non-stop when I trie...       5  "
      ]
     },
     "execution_count": 4,
     "metadata": {},
     "output_type": "execute_result"
    }
   ],
   "source": [
    "products.head(5)"
   ]
  },
  {
   "cell_type": "markdown",
   "metadata": {},
   "source": [
    "## A look into some of the reviews and ratings"
   ]
  },
  {
   "cell_type": "code",
   "execution_count": 5,
   "metadata": {
    "collapsed": false
   },
   "outputs": [
    {
     "name": "stdout",
     "output_type": "stream",
     "text": [
      "All of my kids have cried non-stop when I tried to ween them off their pacifier, until I found Thumbuddy To Love's Binky Fairy Puppet.  It is an easy way to work with your kids to allow them to understand where their pacifier is going and help them part from it.This is a must buy book, and a great gift for expecting parents!!  You will save them soo many headaches.Thanks for this book!  You all rock!! \n",
      "\n",
      "rating:  5\n"
     ]
    }
   ],
   "source": [
    "print(products['review'][4],\"\\n\")\n",
    "print(\"rating: \",products['rating'][4])"
   ]
  },
  {
   "cell_type": "code",
   "execution_count": 6,
   "metadata": {
    "collapsed": false
   },
   "outputs": [
    {
     "name": "stdout",
     "output_type": "stream",
     "text": [
      "Granted our 3-month old isn't producing really stinky diapers yet, but the Champ is much better than using a trash can.  My only issue is that its hard to flip the handle over using one hand - kind of a must when holding on to a squirmy infant. \n",
      "\n",
      "rating:  4\n"
     ]
    }
   ],
   "source": [
    "print(products['review'][331],\"\\n\")\n",
    "print(\"rating: \", products['rating'][331])"
   ]
  },
  {
   "cell_type": "code",
   "execution_count": 7,
   "metadata": {
    "collapsed": false
   },
   "outputs": [
    {
     "name": "stdout",
     "output_type": "stream",
     "text": [
      "The gate did not fit into the entrance of our staircase and although the website of the manufacturer claims that there are extensions, none could be found on the site.Even though I could not complete the installation, the product itself did not inspire much confidence that it was going to withstand what we demanded of it, namely keeping our toddler daughter from falling down the stairs.In addition, the pieces used to put together the gate were of poor quality and tolerance.  One only wishes that the manufacturers of such products understood that when dealing with safety, short-cuts in quality should never be tolerated. \n",
      "\n",
      "rating:  2\n"
     ]
    }
   ],
   "source": [
    "print(products['review'][4125],\"\\n\")\n",
    "print(\"rating: \",products['rating'][4125])"
   ]
  },
  {
   "cell_type": "code",
   "execution_count": 8,
   "metadata": {
    "collapsed": false
   },
   "outputs": [
    {
     "name": "stdout",
     "output_type": "stream",
     "text": [
      "It is PERFECT for infants or toddlers!  As a new first time mother I carried everything in the house with us when she was a baby!  As a toddler we still have a pretty full bag!  This is the ONLY bag we have found that everything fits in and the bag itself it not huge!The side pockets were great for bottles, sippys or a drink for mom.  The front pouch is perfect to carry clippers, medicine and other small stuff.  The inside pockets are perfect jars of food or for a bottle/sippy for that transition period.  Plus you'll still have room for your wallet, a couple of outfits, toys and anything else you might need.It's also a pretty good color.  It doesn't really show alot of dirty and it washes nicely.  Overall, we love the bag and wish they had it available in more colors! \n",
      "\n",
      "rating:  5\n"
     ]
    }
   ],
   "source": [
    "print(products['review'][8340],\"\\n\")\n",
    "print(\"rating: \",products['rating'][8340])"
   ]
  },
  {
   "cell_type": "markdown",
   "metadata": {},
   "source": [
    "#### What is the range of possible review scores?"
   ]
  },
  {
   "cell_type": "code",
   "execution_count": 9,
   "metadata": {
    "collapsed": false
   },
   "outputs": [
    {
     "data": {
      "text/plain": [
       "array([3, 5, 4, 2, 1])"
      ]
     },
     "execution_count": 9,
     "metadata": {},
     "output_type": "execute_result"
    }
   ],
   "source": [
    "products.rating.unique()"
   ]
  },
  {
   "cell_type": "markdown",
   "metadata": {},
   "source": [
    "## Perform text cleaning"
   ]
  },
  {
   "cell_type": "markdown",
   "metadata": {},
   "source": [
    "We start by removing punctuation, so that words \"cake.\" and \"cake!\" are counted as the same word. The cleaned review will be added into a new column called \"review_clean\". Let's write a function that removes all puncutations from the text."
   ]
  },
  {
   "cell_type": "code",
   "execution_count": 10,
   "metadata": {
    "collapsed": false
   },
   "outputs": [],
   "source": [
    "products = products.fillna({'review':\"\"}) #Remove NA rows with an empty string\n",
    "\n",
    "#Write a function remove_punctuation that strips punctuation from a line of text\n",
    "def remove_punctuation(text):\n",
    "    import string #package that contains list of punctuations\n",
    "    translator = str.maketrans({key: None for key in string.punctuation}) #repace all punctuations with an \n",
    "                                                                          #empty string\n",
    "    return text.translate(translator).lower() #transforms all the words into lower-case"
   ]
  },
  {
   "cell_type": "markdown",
   "metadata": {},
   "source": [
    "#### Now let's apply the function we just created to every row in the column 'review' and assign the new text to the colum 'review clean' "
   ]
  },
  {
   "cell_type": "code",
   "execution_count": 11,
   "metadata": {
    "collapsed": false
   },
   "outputs": [],
   "source": [
    "products['review_clean']=products['review'].apply(remove_punctuation)"
   ]
  },
  {
   "cell_type": "markdown",
   "metadata": {},
   "source": [
    "#### This is how the dataframe looks with the new cleaned column "
   ]
  },
  {
   "cell_type": "code",
   "execution_count": 12,
   "metadata": {
    "collapsed": false
   },
   "outputs": [
    {
     "data": {
      "text/html": [
       "<div>\n",
       "<table border=\"1\" class=\"dataframe\">\n",
       "  <thead>\n",
       "    <tr style=\"text-align: right;\">\n",
       "      <th></th>\n",
       "      <th>name</th>\n",
       "      <th>review</th>\n",
       "      <th>rating</th>\n",
       "      <th>review_clean</th>\n",
       "    </tr>\n",
       "  </thead>\n",
       "  <tbody>\n",
       "    <tr>\n",
       "      <th>0</th>\n",
       "      <td>Planetwise Flannel Wipes</td>\n",
       "      <td>These flannel wipes are OK, but in my opinion ...</td>\n",
       "      <td>3</td>\n",
       "      <td>these flannel wipes are ok but in my opinion n...</td>\n",
       "    </tr>\n",
       "    <tr>\n",
       "      <th>1</th>\n",
       "      <td>Planetwise Wipe Pouch</td>\n",
       "      <td>it came early and was not disappointed. i love...</td>\n",
       "      <td>5</td>\n",
       "      <td>it came early and was not disappointed i love ...</td>\n",
       "    </tr>\n",
       "    <tr>\n",
       "      <th>2</th>\n",
       "      <td>Annas Dream Full Quilt with 2 Shams</td>\n",
       "      <td>Very soft and comfortable and warmer than it l...</td>\n",
       "      <td>5</td>\n",
       "      <td>very soft and comfortable and warmer than it l...</td>\n",
       "    </tr>\n",
       "    <tr>\n",
       "      <th>3</th>\n",
       "      <td>Stop Pacifier Sucking without tears with Thumb...</td>\n",
       "      <td>This is a product well worth the purchase.  I ...</td>\n",
       "      <td>5</td>\n",
       "      <td>this is a product well worth the purchase  i h...</td>\n",
       "    </tr>\n",
       "    <tr>\n",
       "      <th>4</th>\n",
       "      <td>Stop Pacifier Sucking without tears with Thumb...</td>\n",
       "      <td>All of my kids have cried non-stop when I trie...</td>\n",
       "      <td>5</td>\n",
       "      <td>all of my kids have cried nonstop when i tried...</td>\n",
       "    </tr>\n",
       "  </tbody>\n",
       "</table>\n",
       "</div>"
      ],
      "text/plain": [
       "                                                name  \\\n",
       "0                           Planetwise Flannel Wipes   \n",
       "1                              Planetwise Wipe Pouch   \n",
       "2                Annas Dream Full Quilt with 2 Shams   \n",
       "3  Stop Pacifier Sucking without tears with Thumb...   \n",
       "4  Stop Pacifier Sucking without tears with Thumb...   \n",
       "\n",
       "                                              review  rating  \\\n",
       "0  These flannel wipes are OK, but in my opinion ...       3   \n",
       "1  it came early and was not disappointed. i love...       5   \n",
       "2  Very soft and comfortable and warmer than it l...       5   \n",
       "3  This is a product well worth the purchase.  I ...       5   \n",
       "4  All of my kids have cried non-stop when I trie...       5   \n",
       "\n",
       "                                        review_clean  \n",
       "0  these flannel wipes are ok but in my opinion n...  \n",
       "1  it came early and was not disappointed i love ...  \n",
       "2  very soft and comfortable and warmer than it l...  \n",
       "3  this is a product well worth the purchase  i h...  \n",
       "4  all of my kids have cried nonstop when i tried...  "
      ]
     },
     "execution_count": 12,
     "metadata": {},
     "output_type": "execute_result"
    }
   ],
   "source": [
    "products.head()"
   ]
  },
  {
   "cell_type": "markdown",
   "metadata": {
    "collapsed": false
   },
   "source": [
    "## Extract Sentiments"
   ]
  },
  {
   "cell_type": "markdown",
   "metadata": {
    "collapsed": true
   },
   "source": [
    "Lets start by removing the reviews with a rating=3, since they tend to have a neutral sentiment. Then, let's assign reviews with a rating of 4 or higher to be __positive__ while the ones with a rating 2 or lower to be __negative__ ."
   ]
  },
  {
   "cell_type": "code",
   "execution_count": 13,
   "metadata": {
    "collapsed": false
   },
   "outputs": [],
   "source": [
    "products = products[products['rating']!=3] # exludes rows in which ratings are equal to 3\n",
    "products['sentiment'] = products['rating'].apply(lambda rating: +1 if rating>3 else -1) # creates an anonimous \n",
    "                                                                                        # function that assigns +1\n",
    "                                                                                        # to ratings higher than 3\n",
    "                                                                                        # and -1 to ratings lower\n",
    "                                                                                        # than 3. The results are \n",
    "                                                                                        # stored in a new column\n",
    "                                                                                        # named \"sentiment\""
   ]
  },
  {
   "cell_type": "markdown",
   "metadata": {},
   "source": [
    "## Split into training and test sets"
   ]
  },
  {
   "cell_type": "code",
   "execution_count": 14,
   "metadata": {
    "collapsed": false
   },
   "outputs": [],
   "source": [
    "from urllib.request import urlopen\n",
    "\n",
    "with urlopen(\"https://s3.amazonaws.com/static.dato.com/files/coursera/course-3/\"\n",
    "                   \"indices-json/module-2-assignment-train-idx.json\") as f:\n",
    "    train_idx = f.read().decode('ascii')\n",
    "    train_idx = train_idx.split(\", \")\n",
    "    \n",
    "    \n",
    "with urlopen(\"https://s3.amazonaws.com/static.dato.com/files/coursera/course-3/\"\n",
    "                   \"indices-json/module-2-assignment-test-idx.json\") as f:\n",
    "    test_idx = f.read().decode('ascii')\n",
    "    test_idx = test_idx.split(\", \")"
   ]
  },
  {
   "cell_type": "code",
   "execution_count": 15,
   "metadata": {
    "collapsed": false
   },
   "outputs": [],
   "source": [
    "train_idx[0]=train_idx[0].strip(\"[\")\n",
    "train_idx[-1]=train_idx[-1].strip(\"]\")\n",
    "test_idx[0]=test_idx[0].strip(\"[\")\n",
    "test_idx[-1]=test_idx[1].strip(\"]\")"
   ]
  },
  {
   "cell_type": "code",
   "execution_count": 16,
   "metadata": {
    "collapsed": false
   },
   "outputs": [],
   "source": [
    "train_idx = [int(i) for i in train_idx]\n",
    "test_idx = [int(i) for i in test_idx]"
   ]
  },
  {
   "cell_type": "code",
   "execution_count": 261,
   "metadata": {
    "collapsed": false
   },
   "outputs": [],
   "source": [
    "train_data, test_data = products.iloc[train_idx],products.iloc[test_idx]"
   ]
  },
  {
   "cell_type": "code",
   "execution_count": 262,
   "metadata": {
    "collapsed": false
   },
   "outputs": [
    {
     "data": {
      "text/html": [
       "<div>\n",
       "<table border=\"1\" class=\"dataframe\">\n",
       "  <thead>\n",
       "    <tr style=\"text-align: right;\">\n",
       "      <th></th>\n",
       "      <th>name</th>\n",
       "      <th>review</th>\n",
       "      <th>rating</th>\n",
       "      <th>review_clean</th>\n",
       "      <th>sentiment</th>\n",
       "    </tr>\n",
       "  </thead>\n",
       "  <tbody>\n",
       "    <tr>\n",
       "      <th>1</th>\n",
       "      <td>Planetwise Wipe Pouch</td>\n",
       "      <td>it came early and was not disappointed. i love...</td>\n",
       "      <td>5</td>\n",
       "      <td>it came early and was not disappointed i love ...</td>\n",
       "      <td>1</td>\n",
       "    </tr>\n",
       "    <tr>\n",
       "      <th>2</th>\n",
       "      <td>Annas Dream Full Quilt with 2 Shams</td>\n",
       "      <td>Very soft and comfortable and warmer than it l...</td>\n",
       "      <td>5</td>\n",
       "      <td>very soft and comfortable and warmer than it l...</td>\n",
       "      <td>1</td>\n",
       "    </tr>\n",
       "    <tr>\n",
       "      <th>3</th>\n",
       "      <td>Stop Pacifier Sucking without tears with Thumb...</td>\n",
       "      <td>This is a product well worth the purchase.  I ...</td>\n",
       "      <td>5</td>\n",
       "      <td>this is a product well worth the purchase  i h...</td>\n",
       "      <td>1</td>\n",
       "    </tr>\n",
       "    <tr>\n",
       "      <th>4</th>\n",
       "      <td>Stop Pacifier Sucking without tears with Thumb...</td>\n",
       "      <td>All of my kids have cried non-stop when I trie...</td>\n",
       "      <td>5</td>\n",
       "      <td>all of my kids have cried nonstop when i tried...</td>\n",
       "      <td>1</td>\n",
       "    </tr>\n",
       "  </tbody>\n",
       "</table>\n",
       "</div>"
      ],
      "text/plain": [
       "                                                name  \\\n",
       "1                              Planetwise Wipe Pouch   \n",
       "2                Annas Dream Full Quilt with 2 Shams   \n",
       "3  Stop Pacifier Sucking without tears with Thumb...   \n",
       "4  Stop Pacifier Sucking without tears with Thumb...   \n",
       "\n",
       "                                              review  rating  \\\n",
       "1  it came early and was not disappointed. i love...       5   \n",
       "2  Very soft and comfortable and warmer than it l...       5   \n",
       "3  This is a product well worth the purchase.  I ...       5   \n",
       "4  All of my kids have cried non-stop when I trie...       5   \n",
       "\n",
       "                                        review_clean  sentiment  \n",
       "1  it came early and was not disappointed i love ...          1  \n",
       "2  very soft and comfortable and warmer than it l...          1  \n",
       "3  this is a product well worth the purchase  i h...          1  \n",
       "4  all of my kids have cried nonstop when i tried...          1  "
      ]
     },
     "execution_count": 262,
     "metadata": {},
     "output_type": "execute_result"
    }
   ],
   "source": [
    "train_data[0:4]"
   ]
  },
  {
   "cell_type": "markdown",
   "metadata": {},
   "source": [
    "## Build the word count vector for each review"
   ]
  },
  {
   "cell_type": "markdown",
   "metadata": {},
   "source": [
    "### Learn a vocabulary (set of all words) from the training data. Create bag of words"
   ]
  },
  {
   "cell_type": "markdown",
   "metadata": {},
   "source": [
    "In learing from text one of the fundamental problems we have is that the lenght of each review, or any text,is not standarized. So you can't use each individual words as an input feature because long reviews would require a different input space than short reviews. This is where a cool trick called Bag of Words comes into rescue. The basic idea is to get a review and count the frequency of words in it and to create a dictonary of the words we are interested in mapping. Then we can match each review into a frequency count defined over the word dictionary. So in the end we have a vector (the dictionary) of size $n$ that can be applied to different reviews. This way all the input features have the same dimension. \n",
    "\n",
    "SckikitLearn has a class that let's us a create a Bag of Words, called the CountVectorizer."
   ]
  },
  {
   "cell_type": "code",
   "execution_count": 19,
   "metadata": {
    "collapsed": false
   },
   "outputs": [],
   "source": [
    "from sklearn.feature_extraction.text import CountVectorizer\n",
    "\n",
    "# Use this token pattern to keep single-letter words\n",
    "vectorizer = CountVectorizer(token_pattern=r'\\b\\w+\\b')  \n",
    "\n",
    "# First, learn vocabulary from the training data and assign columns to words\n",
    "# then convert the training data into a sparse matrix\n",
    "train_matrix = vectorizer.fit_transform(train_data['review_clean']) #the input parameter is a list of texts\n",
    "\n",
    "# Second, convert the test data into a sparse matrix, using the same word-column mapping\n",
    "test_matrix = vectorizer.transform(test_data['review_clean'])"
   ]
  },
  {
   "cell_type": "code",
   "execution_count": 20,
   "metadata": {
    "collapsed": false
   },
   "outputs": [
    {
     "data": {
      "text/plain": [
       "['dataset.joblib',\n",
       " 'dataset.joblib_01.npy',\n",
       " 'dataset.joblib_02.npy',\n",
       " 'dataset.joblib_03.npy']"
      ]
     },
     "execution_count": 20,
     "metadata": {},
     "output_type": "execute_result"
    }
   ],
   "source": [
    "from sklearn.externals import joblib\n",
    "joblib.dump(train_matrix.tocsr(), 'dataset.joblib')"
   ]
  },
  {
   "cell_type": "code",
   "execution_count": 135,
   "metadata": {
    "collapsed": false
   },
   "outputs": [
    {
     "data": {
      "text/plain": [
       "(133416, 121712)"
      ]
     },
     "execution_count": 135,
     "metadata": {},
     "output_type": "execute_result"
    }
   ],
   "source": [
    "\n",
    "train_matrix.shape"
   ]
  },
  {
   "cell_type": "markdown",
   "metadata": {},
   "source": [
    "Now we have a feature matrix with 133416 features. In other words, we are going to train our algorithm with 133416 different words and each word will receive a weight. "
   ]
  },
  {
   "cell_type": "code",
   "execution_count": 140,
   "metadata": {
    "collapsed": false
   },
   "outputs": [
    {
     "name": "stdout",
     "output_type": "stream",
     "text": [
      "[3 1 1 ..., 2 1 2]\n"
     ]
    }
   ],
   "source": [
    "print(train_matrix.data)"
   ]
  },
  {
   "cell_type": "markdown",
   "metadata": {},
   "source": [
    "## Train a sentiment classifier with logistic regression"
   ]
  },
  {
   "cell_type": "markdown",
   "metadata": {},
   "source": [
    "#### Import Logistic Regression class from ScikitLearn"
   ]
  },
  {
   "cell_type": "code",
   "execution_count": 22,
   "metadata": {
    "collapsed": false
   },
   "outputs": [],
   "source": [
    "from sklearn.linear_model import LogisticRegression"
   ]
  },
  {
   "cell_type": "markdown",
   "metadata": {},
   "source": [
    "####  Create instance of the LogisticRegression class and assign it to the variable \"sentiment_model\""
   ]
  },
  {
   "cell_type": "code",
   "execution_count": 23,
   "metadata": {
    "collapsed": false
   },
   "outputs": [],
   "source": [
    "sentiment_model = LogisticRegression()"
   ]
  },
  {
   "cell_type": "markdown",
   "metadata": {},
   "source": [
    "#### Fit the model with the features (train_matrix) and the target variables (train_data['sentiment'])"
   ]
  },
  {
   "cell_type": "code",
   "execution_count": 24,
   "metadata": {
    "collapsed": false
   },
   "outputs": [
    {
     "data": {
      "text/plain": [
       "LogisticRegression(C=1.0, class_weight=None, dual=False, fit_intercept=True,\n",
       "          intercept_scaling=1, max_iter=100, multi_class='ovr', n_jobs=1,\n",
       "          penalty='l2', random_state=None, solver='liblinear', tol=0.0001,\n",
       "          verbose=0, warm_start=False)"
      ]
     },
     "execution_count": 24,
     "metadata": {},
     "output_type": "execute_result"
    }
   ],
   "source": [
    "sentiment_model.fit(train_matrix,train_data['sentiment'])"
   ]
  },
  {
   "cell_type": "markdown",
   "metadata": {
    "collapsed": true
   },
   "source": [
    "### how many weights are bigger than zero? "
   ]
  },
  {
   "cell_type": "code",
   "execution_count": 67,
   "metadata": {
    "collapsed": false
   },
   "outputs": [],
   "source": [
    "def count_coeff():\n",
    "    counter_bigger = 0\n",
    "    counter_smaller = 0\n",
    "    for coef in sentiment_model.coef_[0]:\n",
    "        if coef>=0:\n",
    "            counter_bigger +=1\n",
    "        else:\n",
    "            counter_smaller += 1\n",
    "    print(\"how many >= 0;\", \"how many < 0\")\n",
    "    return counter_bigger,counter_smaller"
   ]
  },
  {
   "cell_type": "code",
   "execution_count": 129,
   "metadata": {
    "collapsed": false
   },
   "outputs": [
    {
     "data": {
      "text/plain": [
       "array([[ -1.23889324e+00,   1.59863291e-04,   2.63828080e-02, ...,\n",
       "          1.17685365e-02,   3.10346626e-03,  -6.36644403e-05]])"
      ]
     },
     "execution_count": 129,
     "metadata": {},
     "output_type": "execute_result"
    }
   ],
   "source": [
    "sentiment_model.coef_ # some of the weights that where trained after the fit method was called\n",
    "                      # each weight corresponds to a single word"
   ]
  },
  {
   "cell_type": "code",
   "execution_count": 69,
   "metadata": {
    "collapsed": false
   },
   "outputs": [
    {
     "name": "stdout",
     "output_type": "stream",
     "text": [
      "how many >= 0; how many < 0\n"
     ]
    },
    {
     "data": {
      "text/plain": [
       "(85911, 35801)"
      ]
     },
     "execution_count": 69,
     "metadata": {},
     "output_type": "execute_result"
    }
   ],
   "source": [
    "count_coeff()"
   ]
  },
  {
   "cell_type": "markdown",
   "metadata": {},
   "source": [
    "85911 words have a positive weight. These are words that are associated with positive reviews."
   ]
  },
  {
   "cell_type": "markdown",
   "metadata": {},
   "source": [
    "## Making predictions with logistic regression"
   ]
  },
  {
   "cell_type": "markdown",
   "metadata": {},
   "source": [
    "Now that a model is trained, we can make predictions on the test data. In this section, we will explore this in the context of 3 data points in the test data. Take the 11th, 12th, and 13th data points in the test data and save them to sample_test_data. The following cell extracts the three data points from the SFrame test_data and print their content:"
   ]
  },
  {
   "cell_type": "code",
   "execution_count": 79,
   "metadata": {
    "collapsed": false
   },
   "outputs": [
    {
     "data": {
      "text/html": [
       "<div>\n",
       "<table border=\"1\" class=\"dataframe\">\n",
       "  <thead>\n",
       "    <tr style=\"text-align: right;\">\n",
       "      <th></th>\n",
       "      <th>name</th>\n",
       "      <th>review</th>\n",
       "      <th>rating</th>\n",
       "      <th>review_clean</th>\n",
       "      <th>sentiment</th>\n",
       "    </tr>\n",
       "  </thead>\n",
       "  <tbody>\n",
       "    <tr>\n",
       "      <th>59</th>\n",
       "      <td>Our Baby Girl Memory Book</td>\n",
       "      <td>Absolutely love it and all of the Scripture in...</td>\n",
       "      <td>5</td>\n",
       "      <td>absolutely love it and all of the scripture in...</td>\n",
       "      <td>1</td>\n",
       "    </tr>\n",
       "    <tr>\n",
       "      <th>71</th>\n",
       "      <td>Wall Decor Removable Decal Sticker - Colorful ...</td>\n",
       "      <td>Would not purchase again or recommend. The dec...</td>\n",
       "      <td>2</td>\n",
       "      <td>would not purchase again or recommend the deca...</td>\n",
       "      <td>-1</td>\n",
       "    </tr>\n",
       "    <tr>\n",
       "      <th>91</th>\n",
       "      <td>New Style Trailing Cherry Blossom Tree Decal R...</td>\n",
       "      <td>Was so excited to get this product for my baby...</td>\n",
       "      <td>1</td>\n",
       "      <td>was so excited to get this product for my baby...</td>\n",
       "      <td>-1</td>\n",
       "    </tr>\n",
       "  </tbody>\n",
       "</table>\n",
       "</div>"
      ],
      "text/plain": [
       "                                                 name  \\\n",
       "59                          Our Baby Girl Memory Book   \n",
       "71  Wall Decor Removable Decal Sticker - Colorful ...   \n",
       "91  New Style Trailing Cherry Blossom Tree Decal R...   \n",
       "\n",
       "                                               review  rating  \\\n",
       "59  Absolutely love it and all of the Scripture in...       5   \n",
       "71  Would not purchase again or recommend. The dec...       2   \n",
       "91  Was so excited to get this product for my baby...       1   \n",
       "\n",
       "                                         review_clean  sentiment  \n",
       "59  absolutely love it and all of the scripture in...          1  \n",
       "71  would not purchase again or recommend the deca...         -1  \n",
       "91  was so excited to get this product for my baby...         -1  "
      ]
     },
     "execution_count": 79,
     "metadata": {},
     "output_type": "execute_result"
    }
   ],
   "source": [
    "sample_test_data = test_data[10:13]\n",
    "sample_test_data"
   ]
  },
  {
   "cell_type": "code",
   "execution_count": 105,
   "metadata": {
    "collapsed": false
   },
   "outputs": [
    {
     "name": "stdout",
     "output_type": "stream",
     "text": [
      "[ 'Absolutely love it and all of the Scripture in it.  I purchased the Baby Boy version for my grandson when he was born and my daughter-in-law was thrilled to receive the same book again.']\n"
     ]
    }
   ],
   "source": [
    "print(sample_test_data[:1]['review'].values)"
   ]
  },
  {
   "cell_type": "markdown",
   "metadata": {},
   "source": [
    "That review seems pretty positive. Now, let's see what the next row of the sample_test_data looks like. As we could guess from the rating (-1), the review is quite negative."
   ]
  },
  {
   "cell_type": "code",
   "execution_count": 106,
   "metadata": {
    "collapsed": false
   },
   "outputs": [
    {
     "name": "stdout",
     "output_type": "stream",
     "text": [
      "[ 'Would not purchase again or recommend. The decals were thick almost plastic like and were coming off the wall as I was applying them! The would NOT stick! Literally stayed stuck for about 5 minutes then started peeling off.']\n"
     ]
    }
   ],
   "source": [
    "print(sample_test_data[1:2]['review'].values)"
   ]
  },
  {
   "cell_type": "markdown",
   "metadata": {},
   "source": [
    "### We will now make a class prediction for the sample_test_data. The sentiment_model should predict +1 if the sentiment is positive and -1 if the sentiment is negative. Each review $i$ will receive a score based on the function $score_i= weights \\times features_i$"
   ]
  },
  {
   "cell_type": "code",
   "execution_count": 110,
   "metadata": {
    "collapsed": true
   },
   "outputs": [],
   "source": [
    "# convert sample_test_data into the sparse matrix format first\n",
    "sample_test_matrix = vectorizer.transform(sample_test_data['review_clean']) # converts into numpy matrix"
   ]
  },
  {
   "cell_type": "code",
   "execution_count": 120,
   "metadata": {
    "collapsed": false
   },
   "outputs": [
    {
     "data": {
      "text/plain": [
       "59    absolutely love it and all of the scripture in...\n",
       "71    would not purchase again or recommend the deca...\n",
       "91    was so excited to get this product for my baby...\n",
       "Name: review_clean, dtype: object"
      ]
     },
     "execution_count": 120,
     "metadata": {},
     "output_type": "execute_result"
    }
   ],
   "source": [
    "# this is how test_data looks before conversion\n",
    "sample_test_data['review_clean'] # a pandas Series"
   ]
  },
  {
   "cell_type": "code",
   "execution_count": 125,
   "metadata": {
    "collapsed": false
   },
   "outputs": [
    {
     "data": {
      "text/plain": [
       "array([1, 1, 1, 2, 1, 1, 1, 1, 1, 1, 1, 1, 1, 1, 2, 1, 2, 1, 1, 1, 1, 3, 1,\n",
       "       1, 1, 2, 1, 1, 1, 1, 1, 1, 1, 1, 1, 1, 1, 1, 1, 1, 1, 2, 2, 1, 1, 1,\n",
       "       1, 1, 1, 1, 1, 1, 3, 1, 1, 1, 1, 1, 2, 2, 1, 1, 1, 1, 2, 1, 1, 1, 1,\n",
       "       1, 1, 1, 1, 1, 1, 1, 1, 4, 1, 1, 3, 1, 1, 1, 1, 1, 1, 1, 1, 1, 1, 1,\n",
       "       1, 1, 5, 1, 2, 3, 2, 2, 1, 2, 1, 1, 1])"
      ]
     },
     "execution_count": 125,
     "metadata": {},
     "output_type": "execute_result"
    }
   ],
   "source": [
    "# and after conversion\n",
    "sample_test_matrix.data # a numpy array"
   ]
  },
  {
   "cell_type": "code",
   "execution_count": 163,
   "metadata": {
    "collapsed": false
   },
   "outputs": [
    {
     "name": "stdout",
     "output_type": "stream",
     "text": [
      "(3, 121712)\n"
     ]
    }
   ],
   "source": [
    "print(sample_test_matrix.shape) # 3 reviews and 121712 words of bag of words each."
   ]
  },
  {
   "cell_type": "code",
   "execution_count": 142,
   "metadata": {
    "collapsed": true
   },
   "outputs": [],
   "source": [
    "scores = sentiment_model.decision_function(sample_test_matrix) # calculates the score of each data point"
   ]
  },
  {
   "cell_type": "code",
   "execution_count": 144,
   "metadata": {
    "collapsed": false
   },
   "outputs": [
    {
     "name": "stdout",
     "output_type": "stream",
     "text": [
      "[  5.60798627  -3.1429946  -10.44043584]\n"
     ]
    }
   ],
   "source": [
    "print(scores)"
   ]
  },
  {
   "cell_type": "markdown",
   "metadata": {},
   "source": [
    "If the score is > 1 the prediciton will be of a positive review and if it is < 1, of a negative review."
   ]
  },
  {
   "cell_type": "markdown",
   "metadata": {},
   "source": [
    "### Using scores, write code to calculate predicted labels for sample_test_data.\n"
   ]
  },
  {
   "cell_type": "code",
   "execution_count": 152,
   "metadata": {
    "collapsed": false
   },
   "outputs": [],
   "source": [
    "def predict_labels():\n",
    "    predictions = []\n",
    "    for score in scores:\n",
    "        if score > 0:\n",
    "            predictions.append(1)\n",
    "        else:\n",
    "            predictions.append(-1)\n",
    "    return predictions"
   ]
  },
  {
   "cell_type": "code",
   "execution_count": 290,
   "metadata": {
    "collapsed": false
   },
   "outputs": [],
   "source": [
    "sample_predictions = predict_labels()"
   ]
  },
  {
   "cell_type": "code",
   "execution_count": 291,
   "metadata": {
    "collapsed": false
   },
   "outputs": [
    {
     "name": "stdout",
     "output_type": "stream",
     "text": [
      "[1, -1, -1]\n"
     ]
    }
   ],
   "source": [
    "print(sample_predictions)"
   ]
  },
  {
   "cell_type": "markdown",
   "metadata": {},
   "source": [
    "## Probability Predictions"
   ]
  },
  {
   "cell_type": "markdown",
   "metadata": {},
   "source": [
    "We can calculate the probability predictions from the scores using: $$P(y_i = +1| x_i,w) = \\frac{1}{(1+exp(-w_th(x_i))}$$ \n"
   ]
  },
  {
   "cell_type": "markdown",
   "metadata": {},
   "source": [
    "#### Using the scores calculated previously, write code to calculate the probability that a sentiment is positive using the above formula. For each row, the probabilities should be a number in the range [0, 1]. "
   ]
  },
  {
   "cell_type": "code",
   "execution_count": 169,
   "metadata": {
    "collapsed": false
   },
   "outputs": [],
   "source": [
    "from math import exp \n",
    "\n",
    "def get_probability(scores):\n",
    "    \"\"\"this function will transform each score into a number \n",
    "    between 0 and 1. It is know as the sigmoid\"\"\"    \n",
    "    \n",
    "    probabilities = []\n",
    "    \n",
    "    for score in scores:\n",
    "        probability = 1/(1 + exp(score)) \n",
    "        probabilities.append(probability)\n",
    "        \n",
    "    return probabilities"
   ]
  },
  {
   "cell_type": "code",
   "execution_count": 178,
   "metadata": {
    "collapsed": false
   },
   "outputs": [
    {
     "name": "stdout",
     "output_type": "stream",
     "text": [
      "[0.003655040847281396, 0.958631800317721, 0.9999707743866006]\n"
     ]
    }
   ],
   "source": [
    "sample_probabilities = get_probability(scores)\n",
    "print(sample_probabilities)"
   ]
  },
  {
   "cell_type": "markdown",
   "metadata": {},
   "source": [
    "The first review has a 0,3% probability of being postive \n",
    "The second review has a 95,86% probability of being postive \n",
    "The third review has a 99,99% probability of being postive "
   ]
  },
  {
   "cell_type": "markdown",
   "metadata": {},
   "source": [
    "Of the three data points in sample_test_data, which one (first, second, or third) has the lowest probability of being classified as a positive review?"
   ]
  },
  {
   "cell_type": "markdown",
   "metadata": {},
   "source": [
    "first one"
   ]
  },
  {
   "cell_type": "markdown",
   "metadata": {},
   "source": [
    "##  Find the most positive (and negative) review"
   ]
  },
  {
   "cell_type": "markdown",
   "metadata": {},
   "source": [
    "We now turn to examining the full test dataset, test_data, and use sklearn.linear_model.LogisticRegression to form predictions on all of the test data points"
   ]
  },
  {
   "cell_type": "markdown",
   "metadata": {},
   "source": [
    "Using the sentiment_model, find the 20 reviews in the entire test_data with the highest probability of being classified as a positive review. We refer to these as the \"most positive reviews.\""
   ]
  },
  {
   "cell_type": "code",
   "execution_count": 274,
   "metadata": {
    "collapsed": true
   },
   "outputs": [],
   "source": [
    "probabilities = sentiment_model.predict_proba(test_matrix)[:,0]"
   ]
  },
  {
   "cell_type": "markdown",
   "metadata": {},
   "source": [
    " Which of the following products are represented in the 20 most positive reviews?"
   ]
  },
  {
   "cell_type": "code",
   "execution_count": 278,
   "metadata": {
    "collapsed": false
   },
   "outputs": [],
   "source": [
    "test_data = test_data.copy()\n",
    "test_data.loc[:,'probabilities (%)'] = probabilities[::-1]*100"
   ]
  },
  {
   "cell_type": "code",
   "execution_count": 279,
   "metadata": {
    "collapsed": false
   },
   "outputs": [
    {
     "data": {
      "text/html": [
       "<div>\n",
       "<table border=\"1\" class=\"dataframe\">\n",
       "  <thead>\n",
       "    <tr style=\"text-align: right;\">\n",
       "      <th></th>\n",
       "      <th>name</th>\n",
       "      <th>review</th>\n",
       "      <th>rating</th>\n",
       "      <th>review_clean</th>\n",
       "      <th>sentiment</th>\n",
       "      <th>probabilities (%)</th>\n",
       "    </tr>\n",
       "  </thead>\n",
       "  <tbody>\n",
       "    <tr>\n",
       "      <th>9</th>\n",
       "      <td>Baby Tracker&amp;reg; - Daily Childcare Journal, S...</td>\n",
       "      <td>This has been an easy way for my nanny to reco...</td>\n",
       "      <td>4</td>\n",
       "      <td>this has been an easy way for my nanny to reco...</td>\n",
       "      <td>1</td>\n",
       "      <td>0.000</td>\n",
       "    </tr>\n",
       "    <tr>\n",
       "      <th>10</th>\n",
       "      <td>Baby Tracker&amp;reg; - Daily Childcare Journal, S...</td>\n",
       "      <td>I love this journal and our nanny uses it ever...</td>\n",
       "      <td>4</td>\n",
       "      <td>i love this journal and our nanny uses it ever...</td>\n",
       "      <td>1</td>\n",
       "      <td>0.000</td>\n",
       "    </tr>\n",
       "    <tr>\n",
       "      <th>16</th>\n",
       "      <td>Nature's Lullabies First Year Sticker Calendar</td>\n",
       "      <td>I love this little calender, you can keep trac...</td>\n",
       "      <td>5</td>\n",
       "      <td>i love this little calender you can keep track...</td>\n",
       "      <td>1</td>\n",
       "      <td>0.001</td>\n",
       "    </tr>\n",
       "    <tr>\n",
       "      <th>20</th>\n",
       "      <td>Nature's Lullabies Second Year Sticker Calendar</td>\n",
       "      <td>I had a hard time finding a second year calend...</td>\n",
       "      <td>5</td>\n",
       "      <td>i had a hard time finding a second year calend...</td>\n",
       "      <td>1</td>\n",
       "      <td>0.090</td>\n",
       "    </tr>\n",
       "    <tr>\n",
       "      <th>28</th>\n",
       "      <td>Lamaze Peekaboo, I Love You</td>\n",
       "      <td>One of baby's first and favorite books, and it...</td>\n",
       "      <td>4</td>\n",
       "      <td>one of babys first and favorite books and it i...</td>\n",
       "      <td>1</td>\n",
       "      <td>2.473</td>\n",
       "    </tr>\n",
       "    <tr>\n",
       "      <th>36</th>\n",
       "      <td>Lamaze Peekaboo, I Love You</td>\n",
       "      <td>My son loved this book as an infant.  It was p...</td>\n",
       "      <td>5</td>\n",
       "      <td>my son loved this book as an infant  it was pe...</td>\n",
       "      <td>1</td>\n",
       "      <td>0.212</td>\n",
       "    </tr>\n",
       "    <tr>\n",
       "      <th>37</th>\n",
       "      <td>Lamaze Peekaboo, I Love You</td>\n",
       "      <td>Our baby loves this book &amp; has loved it for a ...</td>\n",
       "      <td>5</td>\n",
       "      <td>our baby loves this book  has loved it for a w...</td>\n",
       "      <td>1</td>\n",
       "      <td>0.935</td>\n",
       "    </tr>\n",
       "    <tr>\n",
       "      <th>41</th>\n",
       "      <td>SoftPlay Giggle Jiggle Funbook, Happy Bear</td>\n",
       "      <td>This bear is absolutely adorable and I would g...</td>\n",
       "      <td>2</td>\n",
       "      <td>this bear is absolutely adorable and i would g...</td>\n",
       "      <td>-1</td>\n",
       "      <td>0.006</td>\n",
       "    </tr>\n",
       "    <tr>\n",
       "      <th>43</th>\n",
       "      <td>SoftPlay Peek-A-Boo Where's Elmo A Children's ...</td>\n",
       "      <td>I bought two for recent baby showers!  The boo...</td>\n",
       "      <td>5</td>\n",
       "      <td>i bought two for recent baby showers  the book...</td>\n",
       "      <td>1</td>\n",
       "      <td>0.031</td>\n",
       "    </tr>\n",
       "    <tr>\n",
       "      <th>56</th>\n",
       "      <td>Baby's First Year Undated Wall Calendar with S...</td>\n",
       "      <td>I searched high and low for a first year calen...</td>\n",
       "      <td>5</td>\n",
       "      <td>i searched high and low for a first year calen...</td>\n",
       "      <td>1</td>\n",
       "      <td>0.002</td>\n",
       "    </tr>\n",
       "    <tr>\n",
       "      <th>59</th>\n",
       "      <td>Our Baby Girl Memory Book</td>\n",
       "      <td>Absolutely love it and all of the Scripture in...</td>\n",
       "      <td>5</td>\n",
       "      <td>absolutely love it and all of the scripture in...</td>\n",
       "      <td>1</td>\n",
       "      <td>0.000</td>\n",
       "    </tr>\n",
       "    <tr>\n",
       "      <th>71</th>\n",
       "      <td>Wall Decor Removable Decal Sticker - Colorful ...</td>\n",
       "      <td>Would not purchase again or recommend. The dec...</td>\n",
       "      <td>2</td>\n",
       "      <td>would not purchase again or recommend the deca...</td>\n",
       "      <td>-1</td>\n",
       "      <td>72.202</td>\n",
       "    </tr>\n",
       "    <tr>\n",
       "      <th>91</th>\n",
       "      <td>New Style Trailing Cherry Blossom Tree Decal R...</td>\n",
       "      <td>Was so excited to get this product for my baby...</td>\n",
       "      <td>1</td>\n",
       "      <td>was so excited to get this product for my baby...</td>\n",
       "      <td>-1</td>\n",
       "      <td>0.000</td>\n",
       "    </tr>\n",
       "    <tr>\n",
       "      <th>112</th>\n",
       "      <td>Newborn Baby Tracker&amp;reg; - Round the Clock Ch...</td>\n",
       "      <td>This is the best way to keep track of when you...</td>\n",
       "      <td>5</td>\n",
       "      <td>this is the best way to keep track of when you...</td>\n",
       "      <td>1</td>\n",
       "      <td>6.989</td>\n",
       "    </tr>\n",
       "    <tr>\n",
       "      <th>115</th>\n",
       "      <td>Large Jungle Animals (Panda, Lion, Elephant, G...</td>\n",
       "      <td>I ordered these for my 7 month old sons play a...</td>\n",
       "      <td>5</td>\n",
       "      <td>i ordered these for my 7 month old sons play a...</td>\n",
       "      <td>1</td>\n",
       "      <td>0.153</td>\n",
       "    </tr>\n",
       "    <tr>\n",
       "      <th>116</th>\n",
       "      <td>Edu-Petit Happy Jungle Day Finger Puppet Book ...</td>\n",
       "      <td>My 2 year old grandson got it for Christmas an...</td>\n",
       "      <td>5</td>\n",
       "      <td>my 2 year old grandson got it for christmas an...</td>\n",
       "      <td>1</td>\n",
       "      <td>0.000</td>\n",
       "    </tr>\n",
       "    <tr>\n",
       "      <th>120</th>\n",
       "      <td>Modern House Giraffe Children Height Measureme...</td>\n",
       "      <td>It is now haning in my granddaughters bedroom....</td>\n",
       "      <td>5</td>\n",
       "      <td>it is now haning in my granddaughters bedroom ...</td>\n",
       "      <td>1</td>\n",
       "      <td>0.003</td>\n",
       "    </tr>\n",
       "    <tr>\n",
       "      <th>123</th>\n",
       "      <td>Modern House Safari Animal Family removable Vi...</td>\n",
       "      <td>the instructions were really clear, howerver t...</td>\n",
       "      <td>5</td>\n",
       "      <td>the instructions were really clear howerver th...</td>\n",
       "      <td>1</td>\n",
       "      <td>0.010</td>\n",
       "    </tr>\n",
       "    <tr>\n",
       "      <th>129</th>\n",
       "      <td>Neurosmith - Music Blocks with Mozart Music Ca...</td>\n",
       "      <td>Our whole family loved the Mozart music blocks...</td>\n",
       "      <td>4</td>\n",
       "      <td>our whole family loved the mozart music blocks...</td>\n",
       "      <td>1</td>\n",
       "      <td>12.911</td>\n",
       "    </tr>\n",
       "    <tr>\n",
       "      <th>135</th>\n",
       "      <td>Milestones, Kids' Step Stone Kit</td>\n",
       "      <td>Product was very easy to use.  I helped my son...</td>\n",
       "      <td>5</td>\n",
       "      <td>product was very easy to use  i helped my son ...</td>\n",
       "      <td>1</td>\n",
       "      <td>1.817</td>\n",
       "    </tr>\n",
       "    <tr>\n",
       "      <th>140</th>\n",
       "      <td>my first fish bowl by lamaze / learning curve</td>\n",
       "      <td>I bought this toy to help stimulate my eight-m...</td>\n",
       "      <td>5</td>\n",
       "      <td>i bought this toy to help stimulate my eightmo...</td>\n",
       "      <td>1</td>\n",
       "      <td>51.768</td>\n",
       "    </tr>\n",
       "    <tr>\n",
       "      <th>146</th>\n",
       "      <td>my first fish bowl by lamaze / learning curve</td>\n",
       "      <td>I bought this toy for my baby and for friends'...</td>\n",
       "      <td>4</td>\n",
       "      <td>i bought this toy for my baby and for friends ...</td>\n",
       "      <td>1</td>\n",
       "      <td>0.007</td>\n",
       "    </tr>\n",
       "    <tr>\n",
       "      <th>149</th>\n",
       "      <td>Pedal Farm Tractor</td>\n",
       "      <td>We chose this tractor and trailer for a family...</td>\n",
       "      <td>5</td>\n",
       "      <td>we chose this tractor and trailer for a family...</td>\n",
       "      <td>1</td>\n",
       "      <td>0.000</td>\n",
       "    </tr>\n",
       "    <tr>\n",
       "      <th>157</th>\n",
       "      <td>Fisher Price Nesting Action Vehicles</td>\n",
       "      <td>I purchased this toy for my great grandson's f...</td>\n",
       "      <td>5</td>\n",
       "      <td>i purchased this toy for my great grandsons fi...</td>\n",
       "      <td>1</td>\n",
       "      <td>10.266</td>\n",
       "    </tr>\n",
       "    <tr>\n",
       "      <th>158</th>\n",
       "      <td>Fisher Price Nesting Action Vehicles</td>\n",
       "      <td>I've owned this set for several years.  My 4 g...</td>\n",
       "      <td>4</td>\n",
       "      <td>ive owned this set for several years  my 4 gra...</td>\n",
       "      <td>1</td>\n",
       "      <td>0.326</td>\n",
       "    </tr>\n",
       "    <tr>\n",
       "      <th>160</th>\n",
       "      <td>Fisher Price Nesting Action Vehicles</td>\n",
       "      <td>This is a great toy.  The wheels really work a...</td>\n",
       "      <td>5</td>\n",
       "      <td>this is a great toy  the wheels really work an...</td>\n",
       "      <td>1</td>\n",
       "      <td>18.869</td>\n",
       "    </tr>\n",
       "    <tr>\n",
       "      <th>164</th>\n",
       "      <td>Fisher Price Nesting Action Vehicles</td>\n",
       "      <td>My son has played with these from 6 months old...</td>\n",
       "      <td>4</td>\n",
       "      <td>my son has played with these from 6 months old...</td>\n",
       "      <td>1</td>\n",
       "      <td>0.204</td>\n",
       "    </tr>\n",
       "    <tr>\n",
       "      <th>171</th>\n",
       "      <td>Fisher Price Nesting Action Vehicles</td>\n",
       "      <td>My son loves this stacking toy. It is much mor...</td>\n",
       "      <td>5</td>\n",
       "      <td>my son loves this stacking toy it is much more...</td>\n",
       "      <td>1</td>\n",
       "      <td>12.334</td>\n",
       "    </tr>\n",
       "    <tr>\n",
       "      <th>177</th>\n",
       "      <td>Fisher Price Nesting Action Vehicles</td>\n",
       "      <td>This is a wonderful toy that is fun, education...</td>\n",
       "      <td>5</td>\n",
       "      <td>this is a wonderful toy that is fun educationa...</td>\n",
       "      <td>1</td>\n",
       "      <td>0.000</td>\n",
       "    </tr>\n",
       "    <tr>\n",
       "      <th>180</th>\n",
       "      <td>Fisher-Price Slumbertime Soother with Remote C...</td>\n",
       "      <td>I bought this product when my son was about 10...</td>\n",
       "      <td>5</td>\n",
       "      <td>i bought this product when my son was about 10...</td>\n",
       "      <td>1</td>\n",
       "      <td>0.094</td>\n",
       "    </tr>\n",
       "    <tr>\n",
       "      <th>...</th>\n",
       "      <td>...</td>\n",
       "      <td>...</td>\n",
       "      <td>...</td>\n",
       "      <td>...</td>\n",
       "      <td>...</td>\n",
       "      <td>...</td>\n",
       "    </tr>\n",
       "    <tr>\n",
       "      <th>183365</th>\n",
       "      <td>Sunnies Static Cling Sunshades - 2 Pack - 16&amp;q...</td>\n",
       "      <td>I love these, mostly because they are easily r...</td>\n",
       "      <td>5</td>\n",
       "      <td>i love these mostly because they are easily re...</td>\n",
       "      <td>1</td>\n",
       "      <td>0.038</td>\n",
       "    </tr>\n",
       "    <tr>\n",
       "      <th>183370</th>\n",
       "      <td>Summer Infant Pop 'n Play Portable Playard</td>\n",
       "      <td>We are so pleased with our Pop 'n Play Portabl...</td>\n",
       "      <td>5</td>\n",
       "      <td>we are so pleased with our pop n play portable...</td>\n",
       "      <td>1</td>\n",
       "      <td>0.000</td>\n",
       "    </tr>\n",
       "    <tr>\n",
       "      <th>183377</th>\n",
       "      <td>Soho Soren the Owl 6 in 1 Deluxe Diaper Bag *L...</td>\n",
       "      <td>Ordered this bag, it looks more great in perso...</td>\n",
       "      <td>5</td>\n",
       "      <td>ordered this bag it looks more great in person</td>\n",
       "      <td>1</td>\n",
       "      <td>4.663</td>\n",
       "    </tr>\n",
       "    <tr>\n",
       "      <th>183388</th>\n",
       "      <td>Toddler Pillow - Soft Hypoallergenic - Best Pi...</td>\n",
       "      <td>I purchased this pillow for my daughter, it is...</td>\n",
       "      <td>5</td>\n",
       "      <td>i purchased this pillow for my daughter it is ...</td>\n",
       "      <td>1</td>\n",
       "      <td>2.485</td>\n",
       "    </tr>\n",
       "    <tr>\n",
       "      <th>183393</th>\n",
       "      <td>Silly Daddy Boobs are for Babies Funny Baby Bo...</td>\n",
       "      <td>Gave to my son-in-law at baby shower and got r...</td>\n",
       "      <td>5</td>\n",
       "      <td>gave to my soninlaw at baby shower and got rav...</td>\n",
       "      <td>1</td>\n",
       "      <td>2.114</td>\n",
       "    </tr>\n",
       "    <tr>\n",
       "      <th>183397</th>\n",
       "      <td>Crib Mattress Pad, Hypoallergenic, Washable Wa...</td>\n",
       "      <td>Great mattress pad.  Fits crib mattress better...</td>\n",
       "      <td>5</td>\n",
       "      <td>great mattress pad  fits crib mattress better ...</td>\n",
       "      <td>1</td>\n",
       "      <td>0.002</td>\n",
       "    </tr>\n",
       "    <tr>\n",
       "      <th>183404</th>\n",
       "      <td>Elant Bluetooth Wireless Controller For Sony P...</td>\n",
       "      <td>The color is so pretty.Very cute.</td>\n",
       "      <td>5</td>\n",
       "      <td>the color is so prettyvery cute</td>\n",
       "      <td>1</td>\n",
       "      <td>0.003</td>\n",
       "    </tr>\n",
       "    <tr>\n",
       "      <th>183405</th>\n",
       "      <td>My Learning Lovey by Baby Jack. Educational ba...</td>\n",
       "      <td>This fun and interactive  lovey blanket was a ...</td>\n",
       "      <td>5</td>\n",
       "      <td>this fun and interactive  lovey blanket was a ...</td>\n",
       "      <td>1</td>\n",
       "      <td>0.000</td>\n",
       "    </tr>\n",
       "    <tr>\n",
       "      <th>183406</th>\n",
       "      <td>My Learning Lovey by Baby Jack. Educational ba...</td>\n",
       "      <td>Amazing products come from Baby Jack Blankets!...</td>\n",
       "      <td>5</td>\n",
       "      <td>amazing products come from baby jack blankets ...</td>\n",
       "      <td>1</td>\n",
       "      <td>0.095</td>\n",
       "    </tr>\n",
       "    <tr>\n",
       "      <th>183414</th>\n",
       "      <td>Samsung Baby Care Washer, Stainless Platinum, ...</td>\n",
       "      <td>My infant goes to a really crappy daycare, and...</td>\n",
       "      <td>1</td>\n",
       "      <td>my infant goes to a really crappy daycare and ...</td>\n",
       "      <td>-1</td>\n",
       "      <td>0.139</td>\n",
       "    </tr>\n",
       "    <tr>\n",
       "      <th>183415</th>\n",
       "      <td>Evenflo Bouncin Barnyard Exersaucer</td>\n",
       "      <td>Not sure what to say about this, other than it...</td>\n",
       "      <td>5</td>\n",
       "      <td>not sure what to say about this other than its...</td>\n",
       "      <td>1</td>\n",
       "      <td>0.106</td>\n",
       "    </tr>\n",
       "    <tr>\n",
       "      <th>183418</th>\n",
       "      <td>Maxboost iPhone 5S/5 Case - Protective Snap-on...</td>\n",
       "      <td>i love the case, color, and how it feels while...</td>\n",
       "      <td>5</td>\n",
       "      <td>i love the case color and how it feels while i...</td>\n",
       "      <td>1</td>\n",
       "      <td>96.172</td>\n",
       "    </tr>\n",
       "    <tr>\n",
       "      <th>183434</th>\n",
       "      <td>Maxboost iPhone 5S/5 Case - Protective Snap-on...</td>\n",
       "      <td>I received a free sample from VIPU program for...</td>\n",
       "      <td>5</td>\n",
       "      <td>i received a free sample from vipu program for...</td>\n",
       "      <td>1</td>\n",
       "      <td>5.958</td>\n",
       "    </tr>\n",
       "    <tr>\n",
       "      <th>183436</th>\n",
       "      <td>Maxboost iPhone 5S/5 Case - Protective Snap-on...</td>\n",
       "      <td>I just received this case, and I love it. I re...</td>\n",
       "      <td>5</td>\n",
       "      <td>i just received this case and i love it i rece...</td>\n",
       "      <td>1</td>\n",
       "      <td>0.733</td>\n",
       "    </tr>\n",
       "    <tr>\n",
       "      <th>183447</th>\n",
       "      <td>Maxboost iPhone 5S/5 Case - Protective Snap-on...</td>\n",
       "      <td>What a great case. It fits perfectly on my iPh...</td>\n",
       "      <td>5</td>\n",
       "      <td>what a great case it fits perfectly on my ipho...</td>\n",
       "      <td>1</td>\n",
       "      <td>2.302</td>\n",
       "    </tr>\n",
       "    <tr>\n",
       "      <th>183456</th>\n",
       "      <td>Maxboost iPhone 5S/5 Case - Protective Snap-on...</td>\n",
       "      <td>Great case and very sturdy! The different colo...</td>\n",
       "      <td>5</td>\n",
       "      <td>great case and very sturdy the different color...</td>\n",
       "      <td>1</td>\n",
       "      <td>0.701</td>\n",
       "    </tr>\n",
       "    <tr>\n",
       "      <th>183459</th>\n",
       "      <td>Sweet CareFor Bamboo Baby Wipes - 80 Wipe Pack...</td>\n",
       "      <td>Gave these a try and was impressed!  Thick, du...</td>\n",
       "      <td>5</td>\n",
       "      <td>gave these a try and was impressed  thick dura...</td>\n",
       "      <td>1</td>\n",
       "      <td>0.440</td>\n",
       "    </tr>\n",
       "    <tr>\n",
       "      <th>183460</th>\n",
       "      <td>Toy Hammock - Deluxe Jumbo Toy Hammock Storage...</td>\n",
       "      <td>TheToy Hammock by Freddie and Sebbiemakes for ...</td>\n",
       "      <td>5</td>\n",
       "      <td>thetoy hammock by freddie and sebbiemakes for ...</td>\n",
       "      <td>1</td>\n",
       "      <td>99.997</td>\n",
       "    </tr>\n",
       "    <tr>\n",
       "      <th>183461</th>\n",
       "      <td>Mud Pie Milestone Stickers, Boy</td>\n",
       "      <td>Pretty please open and inspect these stickers ...</td>\n",
       "      <td>1</td>\n",
       "      <td>pretty please open and inspect these stickers ...</td>\n",
       "      <td>-1</td>\n",
       "      <td>95.863</td>\n",
       "    </tr>\n",
       "    <tr>\n",
       "      <th>183465</th>\n",
       "      <td>Swaddle - &amp;quot;Classic&amp;quot; Zen Swaddle - We...</td>\n",
       "      <td>Overall we really like this swaddle; the light...</td>\n",
       "      <td>4</td>\n",
       "      <td>overall we really like this swaddle the light ...</td>\n",
       "      <td>1</td>\n",
       "      <td>0.366</td>\n",
       "    </tr>\n",
       "    <tr>\n",
       "      <th>183468</th>\n",
       "      <td>Bouncy&amp;reg; Inflatable Real Feel Hopping Cow</td>\n",
       "      <td>I was very impressed by the quality of this pr...</td>\n",
       "      <td>5</td>\n",
       "      <td>i was very impressed by the quality of this pr...</td>\n",
       "      <td>1</td>\n",
       "      <td>0.267</td>\n",
       "    </tr>\n",
       "    <tr>\n",
       "      <th>183473</th>\n",
       "      <td>Bouncy&amp;reg; Inflatable Real Feel Hopping Cow</td>\n",
       "      <td>Easy to blow up.Soft and I like how it has a r...</td>\n",
       "      <td>5</td>\n",
       "      <td>easy to blow upsoft and i like how it has a re...</td>\n",
       "      <td>1</td>\n",
       "      <td>0.152</td>\n",
       "    </tr>\n",
       "    <tr>\n",
       "      <th>183483</th>\n",
       "      <td>Best Bottom Stay Dry Inserts, Large, 3 Count</td>\n",
       "      <td>I have the inserts for the grovia, flip, joeys...</td>\n",
       "      <td>5</td>\n",
       "      <td>i have the inserts for the grovia flip joeys  ...</td>\n",
       "      <td>1</td>\n",
       "      <td>19.650</td>\n",
       "    </tr>\n",
       "    <tr>\n",
       "      <th>183487</th>\n",
       "      <td>Best Bottom Stay Dry Inserts, Large, 3 Count</td>\n",
       "      <td>I love these. VERY absorbent and dry quickly. ...</td>\n",
       "      <td>5</td>\n",
       "      <td>i love these very absorbent and dry quickly i ...</td>\n",
       "      <td>1</td>\n",
       "      <td>0.126</td>\n",
       "    </tr>\n",
       "    <tr>\n",
       "      <th>183499</th>\n",
       "      <td>Maxboost iPhone 5S/5 Case - Protective Snap-on...</td>\n",
       "      <td>I received a free sample from VIPU program for...</td>\n",
       "      <td>5</td>\n",
       "      <td>i received a free sample from vipu program for...</td>\n",
       "      <td>1</td>\n",
       "      <td>0.004</td>\n",
       "    </tr>\n",
       "    <tr>\n",
       "      <th>183507</th>\n",
       "      <td>Maxboost iPhone 5S/5 Case - Protective Snap-on...</td>\n",
       "      <td>got this for my wife and she loves it would de...</td>\n",
       "      <td>5</td>\n",
       "      <td>got this for my wife and she loves it would de...</td>\n",
       "      <td>1</td>\n",
       "      <td>1.968</td>\n",
       "    </tr>\n",
       "    <tr>\n",
       "      <th>183515</th>\n",
       "      <td>Maxboost iPhone 5S/5 Case - Protective Snap-on...</td>\n",
       "      <td>I love this phone case!  My  iPhone is always ...</td>\n",
       "      <td>5</td>\n",
       "      <td>i love this phone case  my  iphone is always s...</td>\n",
       "      <td>1</td>\n",
       "      <td>0.002</td>\n",
       "    </tr>\n",
       "    <tr>\n",
       "      <th>183522</th>\n",
       "      <td>Airline Seat Belt Extender - The Best Extensio...</td>\n",
       "      <td>I bought this as a father's day gift for my da...</td>\n",
       "      <td>5</td>\n",
       "      <td>i bought this as a fathers day gift for my dad...</td>\n",
       "      <td>1</td>\n",
       "      <td>6.601</td>\n",
       "    </tr>\n",
       "    <tr>\n",
       "      <th>183524</th>\n",
       "      <td>Squeasy Snacker 6oz Silicone Reusable Food Pou...</td>\n",
       "      <td>I love this product, it makes my life easier. ...</td>\n",
       "      <td>5</td>\n",
       "      <td>i love this product it makes my life easier wi...</td>\n",
       "      <td>1</td>\n",
       "      <td>0.000</td>\n",
       "    </tr>\n",
       "    <tr>\n",
       "      <th>10</th>\n",
       "      <td>Baby Tracker&amp;reg; - Daily Childcare Journal, S...</td>\n",
       "      <td>I love this journal and our nanny uses it ever...</td>\n",
       "      <td>4</td>\n",
       "      <td>i love this journal and our nanny uses it ever...</td>\n",
       "      <td>1</td>\n",
       "      <td>22.111</td>\n",
       "    </tr>\n",
       "  </tbody>\n",
       "</table>\n",
       "<p>33336 rows × 6 columns</p>\n",
       "</div>"
      ],
      "text/plain": [
       "                                                     name  \\\n",
       "9       Baby Tracker&reg; - Daily Childcare Journal, S...   \n",
       "10      Baby Tracker&reg; - Daily Childcare Journal, S...   \n",
       "16         Nature's Lullabies First Year Sticker Calendar   \n",
       "20        Nature's Lullabies Second Year Sticker Calendar   \n",
       "28                            Lamaze Peekaboo, I Love You   \n",
       "36                            Lamaze Peekaboo, I Love You   \n",
       "37                            Lamaze Peekaboo, I Love You   \n",
       "41             SoftPlay Giggle Jiggle Funbook, Happy Bear   \n",
       "43      SoftPlay Peek-A-Boo Where's Elmo A Children's ...   \n",
       "56      Baby's First Year Undated Wall Calendar with S...   \n",
       "59                              Our Baby Girl Memory Book   \n",
       "71      Wall Decor Removable Decal Sticker - Colorful ...   \n",
       "91      New Style Trailing Cherry Blossom Tree Decal R...   \n",
       "112     Newborn Baby Tracker&reg; - Round the Clock Ch...   \n",
       "115     Large Jungle Animals (Panda, Lion, Elephant, G...   \n",
       "116     Edu-Petit Happy Jungle Day Finger Puppet Book ...   \n",
       "120     Modern House Giraffe Children Height Measureme...   \n",
       "123     Modern House Safari Animal Family removable Vi...   \n",
       "129     Neurosmith - Music Blocks with Mozart Music Ca...   \n",
       "135                      Milestones, Kids' Step Stone Kit   \n",
       "140         my first fish bowl by lamaze / learning curve   \n",
       "146         my first fish bowl by lamaze / learning curve   \n",
       "149                                    Pedal Farm Tractor   \n",
       "157                  Fisher Price Nesting Action Vehicles   \n",
       "158                  Fisher Price Nesting Action Vehicles   \n",
       "160                  Fisher Price Nesting Action Vehicles   \n",
       "164                  Fisher Price Nesting Action Vehicles   \n",
       "171                  Fisher Price Nesting Action Vehicles   \n",
       "177                  Fisher Price Nesting Action Vehicles   \n",
       "180     Fisher-Price Slumbertime Soother with Remote C...   \n",
       "...                                                   ...   \n",
       "183365  Sunnies Static Cling Sunshades - 2 Pack - 16&q...   \n",
       "183370         Summer Infant Pop 'n Play Portable Playard   \n",
       "183377  Soho Soren the Owl 6 in 1 Deluxe Diaper Bag *L...   \n",
       "183388  Toddler Pillow - Soft Hypoallergenic - Best Pi...   \n",
       "183393  Silly Daddy Boobs are for Babies Funny Baby Bo...   \n",
       "183397  Crib Mattress Pad, Hypoallergenic, Washable Wa...   \n",
       "183404  Elant Bluetooth Wireless Controller For Sony P...   \n",
       "183405  My Learning Lovey by Baby Jack. Educational ba...   \n",
       "183406  My Learning Lovey by Baby Jack. Educational ba...   \n",
       "183414  Samsung Baby Care Washer, Stainless Platinum, ...   \n",
       "183415                Evenflo Bouncin Barnyard Exersaucer   \n",
       "183418  Maxboost iPhone 5S/5 Case - Protective Snap-on...   \n",
       "183434  Maxboost iPhone 5S/5 Case - Protective Snap-on...   \n",
       "183436  Maxboost iPhone 5S/5 Case - Protective Snap-on...   \n",
       "183447  Maxboost iPhone 5S/5 Case - Protective Snap-on...   \n",
       "183456  Maxboost iPhone 5S/5 Case - Protective Snap-on...   \n",
       "183459  Sweet CareFor Bamboo Baby Wipes - 80 Wipe Pack...   \n",
       "183460  Toy Hammock - Deluxe Jumbo Toy Hammock Storage...   \n",
       "183461                    Mud Pie Milestone Stickers, Boy   \n",
       "183465  Swaddle - &quot;Classic&quot; Zen Swaddle - We...   \n",
       "183468       Bouncy&reg; Inflatable Real Feel Hopping Cow   \n",
       "183473       Bouncy&reg; Inflatable Real Feel Hopping Cow   \n",
       "183483       Best Bottom Stay Dry Inserts, Large, 3 Count   \n",
       "183487       Best Bottom Stay Dry Inserts, Large, 3 Count   \n",
       "183499  Maxboost iPhone 5S/5 Case - Protective Snap-on...   \n",
       "183507  Maxboost iPhone 5S/5 Case - Protective Snap-on...   \n",
       "183515  Maxboost iPhone 5S/5 Case - Protective Snap-on...   \n",
       "183522  Airline Seat Belt Extender - The Best Extensio...   \n",
       "183524  Squeasy Snacker 6oz Silicone Reusable Food Pou...   \n",
       "10      Baby Tracker&reg; - Daily Childcare Journal, S...   \n",
       "\n",
       "                                                   review  rating  \\\n",
       "9       This has been an easy way for my nanny to reco...       4   \n",
       "10      I love this journal and our nanny uses it ever...       4   \n",
       "16      I love this little calender, you can keep trac...       5   \n",
       "20      I had a hard time finding a second year calend...       5   \n",
       "28      One of baby's first and favorite books, and it...       4   \n",
       "36      My son loved this book as an infant.  It was p...       5   \n",
       "37      Our baby loves this book & has loved it for a ...       5   \n",
       "41      This bear is absolutely adorable and I would g...       2   \n",
       "43      I bought two for recent baby showers!  The boo...       5   \n",
       "56      I searched high and low for a first year calen...       5   \n",
       "59      Absolutely love it and all of the Scripture in...       5   \n",
       "71      Would not purchase again or recommend. The dec...       2   \n",
       "91      Was so excited to get this product for my baby...       1   \n",
       "112     This is the best way to keep track of when you...       5   \n",
       "115     I ordered these for my 7 month old sons play a...       5   \n",
       "116     My 2 year old grandson got it for Christmas an...       5   \n",
       "120     It is now haning in my granddaughters bedroom....       5   \n",
       "123     the instructions were really clear, howerver t...       5   \n",
       "129     Our whole family loved the Mozart music blocks...       4   \n",
       "135     Product was very easy to use.  I helped my son...       5   \n",
       "140     I bought this toy to help stimulate my eight-m...       5   \n",
       "146     I bought this toy for my baby and for friends'...       4   \n",
       "149     We chose this tractor and trailer for a family...       5   \n",
       "157     I purchased this toy for my great grandson's f...       5   \n",
       "158     I've owned this set for several years.  My 4 g...       4   \n",
       "160     This is a great toy.  The wheels really work a...       5   \n",
       "164     My son has played with these from 6 months old...       4   \n",
       "171     My son loves this stacking toy. It is much mor...       5   \n",
       "177     This is a wonderful toy that is fun, education...       5   \n",
       "180     I bought this product when my son was about 10...       5   \n",
       "...                                                   ...     ...   \n",
       "183365  I love these, mostly because they are easily r...       5   \n",
       "183370  We are so pleased with our Pop 'n Play Portabl...       5   \n",
       "183377  Ordered this bag, it looks more great in perso...       5   \n",
       "183388  I purchased this pillow for my daughter, it is...       5   \n",
       "183393  Gave to my son-in-law at baby shower and got r...       5   \n",
       "183397  Great mattress pad.  Fits crib mattress better...       5   \n",
       "183404                  The color is so pretty.Very cute.       5   \n",
       "183405  This fun and interactive  lovey blanket was a ...       5   \n",
       "183406  Amazing products come from Baby Jack Blankets!...       5   \n",
       "183414  My infant goes to a really crappy daycare, and...       1   \n",
       "183415  Not sure what to say about this, other than it...       5   \n",
       "183418  i love the case, color, and how it feels while...       5   \n",
       "183434  I received a free sample from VIPU program for...       5   \n",
       "183436  I just received this case, and I love it. I re...       5   \n",
       "183447  What a great case. It fits perfectly on my iPh...       5   \n",
       "183456  Great case and very sturdy! The different colo...       5   \n",
       "183459  Gave these a try and was impressed!  Thick, du...       5   \n",
       "183460  TheToy Hammock by Freddie and Sebbiemakes for ...       5   \n",
       "183461  Pretty please open and inspect these stickers ...       1   \n",
       "183465  Overall we really like this swaddle; the light...       4   \n",
       "183468  I was very impressed by the quality of this pr...       5   \n",
       "183473  Easy to blow up.Soft and I like how it has a r...       5   \n",
       "183483  I have the inserts for the grovia, flip, joeys...       5   \n",
       "183487  I love these. VERY absorbent and dry quickly. ...       5   \n",
       "183499  I received a free sample from VIPU program for...       5   \n",
       "183507  got this for my wife and she loves it would de...       5   \n",
       "183515  I love this phone case!  My  iPhone is always ...       5   \n",
       "183522  I bought this as a father's day gift for my da...       5   \n",
       "183524  I love this product, it makes my life easier. ...       5   \n",
       "10      I love this journal and our nanny uses it ever...       4   \n",
       "\n",
       "                                             review_clean  sentiment  \\\n",
       "9       this has been an easy way for my nanny to reco...          1   \n",
       "10      i love this journal and our nanny uses it ever...          1   \n",
       "16      i love this little calender you can keep track...          1   \n",
       "20      i had a hard time finding a second year calend...          1   \n",
       "28      one of babys first and favorite books and it i...          1   \n",
       "36      my son loved this book as an infant  it was pe...          1   \n",
       "37      our baby loves this book  has loved it for a w...          1   \n",
       "41      this bear is absolutely adorable and i would g...         -1   \n",
       "43      i bought two for recent baby showers  the book...          1   \n",
       "56      i searched high and low for a first year calen...          1   \n",
       "59      absolutely love it and all of the scripture in...          1   \n",
       "71      would not purchase again or recommend the deca...         -1   \n",
       "91      was so excited to get this product for my baby...         -1   \n",
       "112     this is the best way to keep track of when you...          1   \n",
       "115     i ordered these for my 7 month old sons play a...          1   \n",
       "116     my 2 year old grandson got it for christmas an...          1   \n",
       "120     it is now haning in my granddaughters bedroom ...          1   \n",
       "123     the instructions were really clear howerver th...          1   \n",
       "129     our whole family loved the mozart music blocks...          1   \n",
       "135     product was very easy to use  i helped my son ...          1   \n",
       "140     i bought this toy to help stimulate my eightmo...          1   \n",
       "146     i bought this toy for my baby and for friends ...          1   \n",
       "149     we chose this tractor and trailer for a family...          1   \n",
       "157     i purchased this toy for my great grandsons fi...          1   \n",
       "158     ive owned this set for several years  my 4 gra...          1   \n",
       "160     this is a great toy  the wheels really work an...          1   \n",
       "164     my son has played with these from 6 months old...          1   \n",
       "171     my son loves this stacking toy it is much more...          1   \n",
       "177     this is a wonderful toy that is fun educationa...          1   \n",
       "180     i bought this product when my son was about 10...          1   \n",
       "...                                                   ...        ...   \n",
       "183365  i love these mostly because they are easily re...          1   \n",
       "183370  we are so pleased with our pop n play portable...          1   \n",
       "183377     ordered this bag it looks more great in person          1   \n",
       "183388  i purchased this pillow for my daughter it is ...          1   \n",
       "183393  gave to my soninlaw at baby shower and got rav...          1   \n",
       "183397  great mattress pad  fits crib mattress better ...          1   \n",
       "183404                    the color is so prettyvery cute          1   \n",
       "183405  this fun and interactive  lovey blanket was a ...          1   \n",
       "183406  amazing products come from baby jack blankets ...          1   \n",
       "183414  my infant goes to a really crappy daycare and ...         -1   \n",
       "183415  not sure what to say about this other than its...          1   \n",
       "183418  i love the case color and how it feels while i...          1   \n",
       "183434  i received a free sample from vipu program for...          1   \n",
       "183436  i just received this case and i love it i rece...          1   \n",
       "183447  what a great case it fits perfectly on my ipho...          1   \n",
       "183456  great case and very sturdy the different color...          1   \n",
       "183459  gave these a try and was impressed  thick dura...          1   \n",
       "183460  thetoy hammock by freddie and sebbiemakes for ...          1   \n",
       "183461  pretty please open and inspect these stickers ...         -1   \n",
       "183465  overall we really like this swaddle the light ...          1   \n",
       "183468  i was very impressed by the quality of this pr...          1   \n",
       "183473  easy to blow upsoft and i like how it has a re...          1   \n",
       "183483  i have the inserts for the grovia flip joeys  ...          1   \n",
       "183487  i love these very absorbent and dry quickly i ...          1   \n",
       "183499  i received a free sample from vipu program for...          1   \n",
       "183507  got this for my wife and she loves it would de...          1   \n",
       "183515  i love this phone case  my  iphone is always s...          1   \n",
       "183522  i bought this as a fathers day gift for my dad...          1   \n",
       "183524  i love this product it makes my life easier wi...          1   \n",
       "10      i love this journal and our nanny uses it ever...          1   \n",
       "\n",
       "        probabilities (%)  \n",
       "9                   0.000  \n",
       "10                  0.000  \n",
       "16                  0.001  \n",
       "20                  0.090  \n",
       "28                  2.473  \n",
       "36                  0.212  \n",
       "37                  0.935  \n",
       "41                  0.006  \n",
       "43                  0.031  \n",
       "56                  0.002  \n",
       "59                  0.000  \n",
       "71                 72.202  \n",
       "91                  0.000  \n",
       "112                 6.989  \n",
       "115                 0.153  \n",
       "116                 0.000  \n",
       "120                 0.003  \n",
       "123                 0.010  \n",
       "129                12.911  \n",
       "135                 1.817  \n",
       "140                51.768  \n",
       "146                 0.007  \n",
       "149                 0.000  \n",
       "157                10.266  \n",
       "158                 0.326  \n",
       "160                18.869  \n",
       "164                 0.204  \n",
       "171                12.334  \n",
       "177                 0.000  \n",
       "180                 0.094  \n",
       "...                   ...  \n",
       "183365              0.038  \n",
       "183370              0.000  \n",
       "183377              4.663  \n",
       "183388              2.485  \n",
       "183393              2.114  \n",
       "183397              0.002  \n",
       "183404              0.003  \n",
       "183405              0.000  \n",
       "183406              0.095  \n",
       "183414              0.139  \n",
       "183415              0.106  \n",
       "183418             96.172  \n",
       "183434              5.958  \n",
       "183436              0.733  \n",
       "183447              2.302  \n",
       "183456              0.701  \n",
       "183459              0.440  \n",
       "183460             99.997  \n",
       "183461             95.863  \n",
       "183465              0.366  \n",
       "183468              0.267  \n",
       "183473              0.152  \n",
       "183483             19.650  \n",
       "183487              0.126  \n",
       "183499              0.004  \n",
       "183507              1.968  \n",
       "183515              0.002  \n",
       "183522              6.601  \n",
       "183524              0.000  \n",
       "10                 22.111  \n",
       "\n",
       "[33336 rows x 6 columns]"
      ]
     },
     "execution_count": 279,
     "metadata": {},
     "output_type": "execute_result"
    }
   ],
   "source": [
    "pd.set_option('display.float_format', lambda x: '%.3f' % x)\n",
    "test_data"
   ]
  },
  {
   "cell_type": "markdown",
   "metadata": {},
   "source": [
    "###  Which of the following products are represented in the 20 most positive reviews?"
   ]
  },
  {
   "cell_type": "code",
   "execution_count": 286,
   "metadata": {
    "collapsed": false
   },
   "outputs": [
    {
     "name": "stdout",
     "output_type": "stream",
     "text": [
      "167384         Baby Jogger Summit X3 Double Stroller, Black\n",
      "64332                     Stokke Tripp Trapp Highchair, Red\n",
      "107322                        Maclaren Volo Stroller, Black\n",
      "134858    Infant Optics DXR-5 2.4 GHz Digital Video Baby...\n",
      "27892                Medela Ice Pack for Breastmilk Storage\n",
      "90039                      Kidco Anti-Tip TV Strap - 2 Pack\n",
      "130677               Summer Infant Deluxe Piddle Pad, Black\n",
      "103052                             Toy Story Twin Sheet Set\n",
      "70351     American Baby Company 100% Organic Cotton Inte...\n",
      "172995    Gerber 2 Pack Cotton Knit Fitted Crib Sheets P...\n",
      "173848                         Yo Gabba Gabba Brobee Pillow\n",
      "124516             Munchkin Shampoo Rinser, Colors May Vary\n",
      "108536                                Bugaboo Transport Bag\n",
      "11489            Fisher-Price Booster Seat, Blue/Green/Gray\n",
      "143401               RSVP Endurace Spring Whisk, 9-1/4-Inch\n",
      "33215     Lamaze Play &amp; Grow Jacques the Peacock Tak...\n",
      "28259     DaVinci Emily 4-in-1 Convertible Crib with Tod...\n",
      "182453    Sesame Street&reg; Elmo's World Bath Time Bubb...\n",
      "101046        Planet Wise Hanging Wet/Dry Diaper Bag, Black\n",
      "151546                BRICA Roll 'n Go Car Seat Transporter\n",
      "Name: name, dtype: object\n"
     ]
    }
   ],
   "source": [
    "most_positive = test_data.sort_values(['probabilities (%)'],ascending=False)\n",
    "print(most_positive[0:20]['name'])"
   ]
  },
  {
   "cell_type": "markdown",
   "metadata": {},
   "source": [
    "Now, let us repeat this exercise to find the \"most negative reviews.\""
   ]
  },
  {
   "cell_type": "markdown",
   "metadata": {},
   "source": [
    "### Which of the following products are represented in the 20 most negative reviews?"
   ]
  },
  {
   "cell_type": "code",
   "execution_count": 288,
   "metadata": {
    "collapsed": false
   },
   "outputs": [
    {
     "name": "stdout",
     "output_type": "stream",
     "text": [
      "104258                Elegant Baby Cross with Diamond, Gold\n",
      "65390     The First Years Compass B540 Booster Seat, Abs...\n",
      "2957                            BABYBJORN Potty Chair - Red\n",
      "49952         Medela 5 oz Breastmilk Bottle Set (3 Bottles)\n",
      "87337     Sunshine Kids Radian XTSL Convertible Car Seat...\n",
      "84138     Thermos Funtainer Straw Bottle, Dora The Explo...\n",
      "14783          North States Supergate Expandable Swing Gate\n",
      "42881                 Wubbanub Infant Pacifier - Pink Horse\n",
      "131125    Fisher-Price Discover 'n Grow Storybook Projec...\n",
      "69539                                Jeep Stroller Mesh Bag\n",
      "133302    Child Craft London Euro Style Stationary Crib,...\n",
      "15289     Graco Baby Einstein Discover and Play Entertainer\n",
      "118560                  Sorelle Lynn Changing Table, Merlot\n",
      "46636     Fisher-Price Rainforest Color Changing Sun Shades\n",
      "97590     Bright Starts Ingenuity Automatic Bouncer, Bel...\n",
      "35459     Cloud b Sleep Sheep On The Go Travel Sound Mac...\n",
      "17851            Prince Lionheart Multi-Purpose Toy Hammock\n",
      "160747                Infantino Pop &amp; Play Activity Gym\n",
      "11297            Fisher-Price Booster Seat, Blue/Green/Gray\n",
      "1449                    Sesame Street Potty Soft Seat, Elmo\n",
      "Name: name, dtype: object\n"
     ]
    }
   ],
   "source": [
    "most_negative = test_data.sort_values(['probabilities (%)'],ascending=True)\n",
    "print(most_negative[0:20]['name'])"
   ]
  },
  {
   "cell_type": "markdown",
   "metadata": {},
   "source": [
    "### Compute accuracy of the classifier\n",
    "\n"
   ]
  },
  {
   "cell_type": "code",
   "execution_count": 295,
   "metadata": {
    "collapsed": false
   },
   "outputs": [
    {
     "name": "stdout",
     "output_type": "stream",
     "text": [
      "(33336,)\n"
     ]
    }
   ],
   "source": [
    "predictions = sentiment_model.predict(test_matrix)\n",
    "print(predictions.shape)"
   ]
  },
  {
   "cell_type": "code",
   "execution_count": 296,
   "metadata": {
    "collapsed": true
   },
   "outputs": [],
   "source": [
    "test_data.loc[:,'predictions'] = predictions"
   ]
  },
  {
   "cell_type": "code",
   "execution_count": 301,
   "metadata": {
    "collapsed": false
   },
   "outputs": [
    {
     "data": {
      "text/html": [
       "<div>\n",
       "<table border=\"1\" class=\"dataframe\">\n",
       "  <thead>\n",
       "    <tr style=\"text-align: right;\">\n",
       "      <th></th>\n",
       "      <th>name</th>\n",
       "      <th>review</th>\n",
       "      <th>rating</th>\n",
       "      <th>review_clean</th>\n",
       "      <th>sentiment</th>\n",
       "      <th>probabilities (%)</th>\n",
       "      <th>predictions</th>\n",
       "    </tr>\n",
       "  </thead>\n",
       "  <tbody>\n",
       "    <tr>\n",
       "      <th>9</th>\n",
       "      <td>Baby Tracker&amp;reg; - Daily Childcare Journal, S...</td>\n",
       "      <td>This has been an easy way for my nanny to reco...</td>\n",
       "      <td>4</td>\n",
       "      <td>this has been an easy way for my nanny to reco...</td>\n",
       "      <td>1</td>\n",
       "      <td>0.000</td>\n",
       "      <td>1</td>\n",
       "    </tr>\n",
       "    <tr>\n",
       "      <th>10</th>\n",
       "      <td>Baby Tracker&amp;reg; - Daily Childcare Journal, S...</td>\n",
       "      <td>I love this journal and our nanny uses it ever...</td>\n",
       "      <td>4</td>\n",
       "      <td>i love this journal and our nanny uses it ever...</td>\n",
       "      <td>1</td>\n",
       "      <td>0.000</td>\n",
       "      <td>1</td>\n",
       "    </tr>\n",
       "    <tr>\n",
       "      <th>16</th>\n",
       "      <td>Nature's Lullabies First Year Sticker Calendar</td>\n",
       "      <td>I love this little calender, you can keep trac...</td>\n",
       "      <td>5</td>\n",
       "      <td>i love this little calender you can keep track...</td>\n",
       "      <td>1</td>\n",
       "      <td>0.001</td>\n",
       "      <td>1</td>\n",
       "    </tr>\n",
       "    <tr>\n",
       "      <th>20</th>\n",
       "      <td>Nature's Lullabies Second Year Sticker Calendar</td>\n",
       "      <td>I had a hard time finding a second year calend...</td>\n",
       "      <td>5</td>\n",
       "      <td>i had a hard time finding a second year calend...</td>\n",
       "      <td>1</td>\n",
       "      <td>0.090</td>\n",
       "      <td>1</td>\n",
       "    </tr>\n",
       "    <tr>\n",
       "      <th>28</th>\n",
       "      <td>Lamaze Peekaboo, I Love You</td>\n",
       "      <td>One of baby's first and favorite books, and it...</td>\n",
       "      <td>4</td>\n",
       "      <td>one of babys first and favorite books and it i...</td>\n",
       "      <td>1</td>\n",
       "      <td>2.473</td>\n",
       "      <td>1</td>\n",
       "    </tr>\n",
       "  </tbody>\n",
       "</table>\n",
       "</div>"
      ],
      "text/plain": [
       "                                                 name  \\\n",
       "9   Baby Tracker&reg; - Daily Childcare Journal, S...   \n",
       "10  Baby Tracker&reg; - Daily Childcare Journal, S...   \n",
       "16     Nature's Lullabies First Year Sticker Calendar   \n",
       "20    Nature's Lullabies Second Year Sticker Calendar   \n",
       "28                        Lamaze Peekaboo, I Love You   \n",
       "\n",
       "                                               review  rating  \\\n",
       "9   This has been an easy way for my nanny to reco...       4   \n",
       "10  I love this journal and our nanny uses it ever...       4   \n",
       "16  I love this little calender, you can keep trac...       5   \n",
       "20  I had a hard time finding a second year calend...       5   \n",
       "28  One of baby's first and favorite books, and it...       4   \n",
       "\n",
       "                                         review_clean  sentiment  \\\n",
       "9   this has been an easy way for my nanny to reco...          1   \n",
       "10  i love this journal and our nanny uses it ever...          1   \n",
       "16  i love this little calender you can keep track...          1   \n",
       "20  i had a hard time finding a second year calend...          1   \n",
       "28  one of babys first and favorite books and it i...          1   \n",
       "\n",
       "    probabilities (%)  predictions  \n",
       "9               0.000            1  \n",
       "10              0.000            1  \n",
       "16              0.001            1  \n",
       "20              0.090            1  \n",
       "28              2.473            1  "
      ]
     },
     "execution_count": 301,
     "metadata": {},
     "output_type": "execute_result"
    }
   ],
   "source": [
    "test_data.head()"
   ]
  },
  {
   "cell_type": "markdown",
   "metadata": {},
   "source": [
    "### Count the number of data points when the predicted class labels match the ground truth labels.\n"
   ]
  },
  {
   "cell_type": "code",
   "execution_count": 306,
   "metadata": {
    "collapsed": true
   },
   "outputs": [],
   "source": [
    "def accuracy(data):\n",
    "    \"\"\"caculate the accuracy of the sentiment's predicitons\"\"\"\n",
    "    \n",
    "    correctly_classified = 0\n",
    "    total_examples = data.shape[0]\n",
    "    \n",
    "    for sentiment,prediction in zip(data.sentiment,data.predictions):\n",
    "        if prediction == sentiment:\n",
    "            correctly_classified += 1\n",
    "        else:\n",
    "            continue\n",
    "       \n",
    "    return correctly_classified/total_examples"
   ]
  },
  {
   "cell_type": "code",
   "execution_count": 310,
   "metadata": {
    "collapsed": false
   },
   "outputs": [
    {
     "name": "stdout",
     "output_type": "stream",
     "text": [
      "0.93\n"
     ]
    }
   ],
   "source": [
    "print(round(accuracy(test_data),2))"
   ]
  },
  {
   "cell_type": "markdown",
   "metadata": {},
   "source": [
    "### Does a higher accuracy value on the training_data always imply that the classifier is better?"
   ]
  },
  {
   "cell_type": "markdown",
   "metadata": {},
   "source": [
    "It doesn't!!! The classifier may be overfitted. This is to say that it captures too much random error into it. In anything we try to model there will always be a part that is generated due to random noise. We don't want to capture this because these errors are unpredictible by definition. In other words, we might get a model that is excelent at predidicting the data we trained it weith but bad if it tries to predict new data."
   ]
  },
  {
   "cell_type": "markdown",
   "metadata": {},
   "source": [
    "### Learn another classifier with fewer words"
   ]
  },
  {
   "cell_type": "markdown",
   "metadata": {},
   "source": [
    "There were a lot of words in the model we trained above. We will now train a simpler logistic regression model using only a subet of words that occur in the reviews. For this assignment, we selected 20 words to work with. These are:"
   ]
  },
  {
   "cell_type": "code",
   "execution_count": 339,
   "metadata": {
    "collapsed": true
   },
   "outputs": [],
   "source": [
    "significant_words = ['love', 'great', 'easy', 'old', 'little', 'perfect', 'loves', \n",
    "      'well', 'able', 'car', 'broke', 'less', 'even', 'waste', 'disappointed', \n",
    "      'work', 'product', 'money', 'would', 'return']"
   ]
  },
  {
   "cell_type": "markdown",
   "metadata": {},
   "source": [
    "Compute a new set of word count vectors using only these words. The CountVectorizer class has a parameter that lets you limit the choice of words when building word count vectors:"
   ]
  },
  {
   "cell_type": "code",
   "execution_count": 312,
   "metadata": {
    "collapsed": true
   },
   "outputs": [],
   "source": [
    "vectorizer_word_subset = CountVectorizer(vocabulary=significant_words) # limit to 20 words\n",
    "train_matrix_word_subset = vectorizer_word_subset.fit_transform(train_data['review_clean'])\n",
    "test_matrix_word_subset = vectorizer_word_subset.transform(test_data['review_clean'])"
   ]
  },
  {
   "cell_type": "markdown",
   "metadata": {},
   "source": [
    "### Train a logistic regression model on a subset of data"
   ]
  },
  {
   "cell_type": "code",
   "execution_count": 313,
   "metadata": {
    "collapsed": true
   },
   "outputs": [],
   "source": [
    "simple_model = LogisticRegression()"
   ]
  },
  {
   "cell_type": "code",
   "execution_count": 314,
   "metadata": {
    "collapsed": false
   },
   "outputs": [
    {
     "data": {
      "text/plain": [
       "LogisticRegression(C=1.0, class_weight=None, dual=False, fit_intercept=True,\n",
       "          intercept_scaling=1, max_iter=100, multi_class='ovr', n_jobs=1,\n",
       "          penalty='l2', random_state=None, solver='liblinear', tol=0.0001,\n",
       "          verbose=0, warm_start=False)"
      ]
     },
     "execution_count": 314,
     "metadata": {},
     "output_type": "execute_result"
    }
   ],
   "source": [
    "simple_model.fit(train_matrix_word_subset,train_data.sentiment)"
   ]
  },
  {
   "cell_type": "markdown",
   "metadata": {},
   "source": [
    "#### Let us inspect the weights (coefficients) of the simple_model and build a table to store (word, coefficient) pair"
   ]
  },
  {
   "cell_type": "code",
   "execution_count": 329,
   "metadata": {
    "collapsed": false
   },
   "outputs": [
    {
     "name": "stdout",
     "output_type": "stream",
     "text": [
      "  (0, 0)\t1\n",
      "  (0, 14)\t1\n",
      "  (2, 0)\t2\n",
      "  (2, 4)\t1\n",
      "  (2, 6)\t1\n",
      "  (2, 7)\t1\n",
      "  (2, 16)\t2\n",
      "  (3, 1)\t1\n",
      "  (3, 2)\t1\n",
      "  (3, 6)\t1\n",
      "  (3, 15)\t1\n",
      "  (4, 1)\t1\n",
      "  (4, 16)\t1\n",
      "  (4, 18)\t1\n",
      "  (5, 8)\t1\n",
      "  (6, 5)\t1\n",
      "  (6, 8)\t1\n",
      "  (6, 18)\t1\n",
      "  (7, 16)\t1\n"
     ]
    }
   ],
   "source": [
    "print(train_matrix_word_subset[0:8]) # 133416 reviews, 20 words"
   ]
  },
  {
   "cell_type": "markdown",
   "metadata": {},
   "source": [
    "\"(2, 16) 2\" should read: the word with the index 16 appears 2 times in the review number 2. "
   ]
  },
  {
   "cell_type": "code",
   "execution_count": 369,
   "metadata": {
    "collapsed": false
   },
   "outputs": [
    {
     "data": {
      "text/html": [
       "<div>\n",
       "<table border=\"1\" class=\"dataframe\">\n",
       "  <thead>\n",
       "    <tr style=\"text-align: right;\">\n",
       "      <th></th>\n",
       "      <th>word</th>\n",
       "      <th>coefficient</th>\n",
       "    </tr>\n",
       "  </thead>\n",
       "  <tbody>\n",
       "    <tr>\n",
       "      <th>6</th>\n",
       "      <td>loves</td>\n",
       "      <td>1.673</td>\n",
       "    </tr>\n",
       "    <tr>\n",
       "      <th>5</th>\n",
       "      <td>perfect</td>\n",
       "      <td>1.510</td>\n",
       "    </tr>\n",
       "    <tr>\n",
       "      <th>0</th>\n",
       "      <td>love</td>\n",
       "      <td>1.364</td>\n",
       "    </tr>\n",
       "    <tr>\n",
       "      <th>2</th>\n",
       "      <td>easy</td>\n",
       "      <td>1.193</td>\n",
       "    </tr>\n",
       "    <tr>\n",
       "      <th>1</th>\n",
       "      <td>great</td>\n",
       "      <td>0.944</td>\n",
       "    </tr>\n",
       "    <tr>\n",
       "      <th>4</th>\n",
       "      <td>little</td>\n",
       "      <td>0.520</td>\n",
       "    </tr>\n",
       "    <tr>\n",
       "      <th>7</th>\n",
       "      <td>well</td>\n",
       "      <td>0.504</td>\n",
       "    </tr>\n",
       "    <tr>\n",
       "      <th>8</th>\n",
       "      <td>able</td>\n",
       "      <td>0.191</td>\n",
       "    </tr>\n",
       "    <tr>\n",
       "      <th>3</th>\n",
       "      <td>old</td>\n",
       "      <td>0.086</td>\n",
       "    </tr>\n",
       "    <tr>\n",
       "      <th>9</th>\n",
       "      <td>car</td>\n",
       "      <td>0.059</td>\n",
       "    </tr>\n",
       "    <tr>\n",
       "      <th>11</th>\n",
       "      <td>less</td>\n",
       "      <td>-0.210</td>\n",
       "    </tr>\n",
       "    <tr>\n",
       "      <th>16</th>\n",
       "      <td>product</td>\n",
       "      <td>-0.321</td>\n",
       "    </tr>\n",
       "    <tr>\n",
       "      <th>18</th>\n",
       "      <td>would</td>\n",
       "      <td>-0.362</td>\n",
       "    </tr>\n",
       "    <tr>\n",
       "      <th>12</th>\n",
       "      <td>even</td>\n",
       "      <td>-0.511</td>\n",
       "    </tr>\n",
       "    <tr>\n",
       "      <th>15</th>\n",
       "      <td>work</td>\n",
       "      <td>-0.621</td>\n",
       "    </tr>\n",
       "    <tr>\n",
       "      <th>17</th>\n",
       "      <td>money</td>\n",
       "      <td>-0.898</td>\n",
       "    </tr>\n",
       "    <tr>\n",
       "      <th>10</th>\n",
       "      <td>broke</td>\n",
       "      <td>-1.652</td>\n",
       "    </tr>\n",
       "    <tr>\n",
       "      <th>13</th>\n",
       "      <td>waste</td>\n",
       "      <td>-2.034</td>\n",
       "    </tr>\n",
       "    <tr>\n",
       "      <th>19</th>\n",
       "      <td>return</td>\n",
       "      <td>-2.109</td>\n",
       "    </tr>\n",
       "    <tr>\n",
       "      <th>14</th>\n",
       "      <td>disappointed</td>\n",
       "      <td>-2.348</td>\n",
       "    </tr>\n",
       "  </tbody>\n",
       "</table>\n",
       "</div>"
      ],
      "text/plain": [
       "            word  coefficient\n",
       "6          loves        1.673\n",
       "5        perfect        1.510\n",
       "0           love        1.364\n",
       "2           easy        1.193\n",
       "1          great        0.944\n",
       "4         little        0.520\n",
       "7           well        0.504\n",
       "8           able        0.191\n",
       "3            old        0.086\n",
       "9            car        0.059\n",
       "11          less       -0.210\n",
       "16       product       -0.321\n",
       "18         would       -0.362\n",
       "12          even       -0.511\n",
       "15          work       -0.621\n",
       "17         money       -0.898\n",
       "10         broke       -1.652\n",
       "13         waste       -2.034\n",
       "19        return       -2.109\n",
       "14  disappointed       -2.348"
      ]
     },
     "execution_count": 369,
     "metadata": {},
     "output_type": "execute_result"
    }
   ],
   "source": [
    "simple_model_coef_table = pd.DataFrame()\n",
    "simple_model_coef_table['word'] = significant_words\n",
    "simple_model_coef_table['coefficient'] = simple_model.coef_[0]\n",
    "simple_model_coef_table.sort_values(by='coefficient',ascending=False)"
   ]
  },
  {
   "cell_type": "code",
   "execution_count": null,
   "metadata": {
    "collapsed": true
   },
   "outputs": [],
   "source": []
  }
 ],
 "metadata": {
  "kernelspec": {
   "display_name": "Python 3",
   "language": "python",
   "name": "python3"
  },
  "language_info": {
   "codemirror_mode": {
    "name": "ipython",
    "version": 3
   },
   "file_extension": ".py",
   "mimetype": "text/x-python",
   "name": "python",
   "nbconvert_exporter": "python",
   "pygments_lexer": "ipython3",
   "version": "3.5.1"
  }
 },
 "nbformat": 4,
 "nbformat_minor": 0
}
